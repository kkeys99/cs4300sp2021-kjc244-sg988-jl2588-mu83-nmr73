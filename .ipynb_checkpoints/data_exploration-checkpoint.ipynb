{
 "cells": [
  {
   "cell_type": "code",
   "execution_count": 111,
   "metadata": {},
   "outputs": [],
   "source": [
    "import spotipy\n",
    "import collections\n",
    "import numpy as np\n",
    "import requests\n",
    "from bs4 import BeautifulSoup\n",
    "from spotipy.oauth2 import SpotifyClientCredentials"
   ]
  },
  {
   "cell_type": "code",
   "execution_count": 221,
   "metadata": {},
   "outputs": [],
   "source": [
    "sp = spotipy.Spotify(auth_manager=SpotifyClientCredentials(client_id=\"c0c231a63aff41459ff8db2c552830d2\",\n",
    "                                                           client_secret=\"ca92f9689fd745219c252148f81f4ac2\"))"
   ]
  },
  {
   "cell_type": "code",
   "execution_count": 199,
   "metadata": {},
   "outputs": [],
   "source": [
    "## Use Chartable & BeautifulSoup to get top (podcast) shows on Spotify\n",
    "\n",
    "genre_data_load = collections.defaultdict(int)\n",
    "\n",
    "chartable_url = 'https://chartable.com/charts/spotify/us'\n",
    "page = requests.get(chartable_url, headers = {'User-agent': 'Mozilla/5.0 (Macintosh; Intel Mac OS X 11_2_1) AppleWebKit/537.36 (KHTML, like Gecko) Chrome/89.0.4389.82 Safari/537.36'})\n",
    "page_soup = BeautifulSoup(page.content, 'html.parser')\n",
    "charts_by_genre = page_soup.find_all('div', class_='podcast mb1')\n",
    "chart_urls = [chart.find('a')['href'] for chart in charts_by_genre]\n",
    "num_urls = len(chart_urls)"
   ]
  },
  {
   "cell_type": "code",
   "execution_count": 201,
   "metadata": {},
   "outputs": [],
   "source": [
    "## For each genre, append all of its page urls\n",
    "\n",
    "next_page_urls = []\n",
    "\n",
    "def add_next_pages(chart_indices):\n",
    "    for i in chart_indices:\n",
    "        temp_chart_url = chart_urls[i]\n",
    "        while temp_chart_url:\n",
    "            chart_page = requests.get(temp_chart_url, headers = {'User-agent': 'Mozilla/5.0 (Macintosh; Intel Mac OS X 11_2_1) AppleWebKit/537.36 (KHTML, like Gecko) Chrome/89.0.4389.82 Safari/537.36'})\n",
    "            if (chart_page.status_code != 200):\n",
    "                return i\n",
    "            next_page = BeautifulSoup(chart_page.content, 'html.parser').find('span', class_='next')\n",
    "            if next_page:\n",
    "                temp_chart_url = 'http://chartable.com' + next_page.find('a')['href']\n",
    "                next_page_urls.append(temp_chart_url)\n",
    "            else:\n",
    "                temp_chart_url = None\n",
    "    return -1"
   ]
  },
  {
   "cell_type": "code",
   "execution_count": 202,
   "metadata": {},
   "outputs": [
    {
     "name": "stdout",
     "output_type": "stream",
     "text": [
      "29\n"
     ]
    }
   ],
   "source": [
    "## DON'T NEED TO RUN THIS CELL -- CHART URLS ALREADY LOADED \n",
    "\n",
    "## Need to load data incrementally due to request limit\n",
    "\n",
    "i = 0\n",
    "while i != -1:\n",
    "    i = add_next_pages(range(i, num_urls))\n",
    "chart_urls += next_page_urls\n",
    "print(len(chart_urls))"
   ]
  },
  {
   "cell_type": "code",
   "execution_count": 204,
   "metadata": {},
   "outputs": [],
   "source": [
    "## Get show titles using chart urls from Chartable\n",
    "\n",
    "show_names = set()\n",
    "\n",
    "def add_to_show_names(chart_indices):\n",
    "    for i in chart_indices:\n",
    "        chart_url = chart_urls[i]\n",
    "        chart_page = requests.get(chart_url, headers = {'User-agent': 'Mozilla/5.0 (Macintosh; Intel Mac OS X 11_2_1) AppleWebKit/537.36 (KHTML, like Gecko) Chrome/89.0.4389.82 Safari/537.36'})\n",
    "        if (chart_page.status_code != 200):\n",
    "            return i\n",
    "            \n",
    "        show_soup = BeautifulSoup(chart_page.content, 'html.parser')\n",
    "        all_shows = show_soup.find_all('tr', class_='striped--near-white')\n",
    "            \n",
    "        key = ' '.join(((chart_url.split('/')[-1]).split('-'))[4:])\n",
    "        genre_data_load[key] = len(all_shows)\n",
    "        \n",
    "        for show in all_shows:\n",
    "            show_name = show.find('a', class_='link blue')\n",
    "            if not show_name:\n",
    "                show_name = show.find('div', class_='title f4')\n",
    "            show_names.add(show_name.text)\n",
    "    return -1"
   ]
  },
  {
   "cell_type": "code",
   "execution_count": 205,
   "metadata": {},
   "outputs": [
    {
     "name": "stdout",
     "output_type": "stream",
     "text": [
      "670\n",
      "defaultdict(<class 'int'>, {'arts entertainment': 50, 'business technology': 50, 'comedy': 50, 'educational': 50, 'fiction': 50, 'games': 50, 'lifestyle health': 50, 'history': 50, 'kids family': 50, 'leisure': 50, 'music': 50, 'news politics': 50, 'religion spirituality': 50, 'science': 50, 'society culture': 50, 'sports recreation': 50, 'stories': 50, 'tv film': 50, 'technology': 50, 'top podcasts': 50})\n",
      "670\n",
      "defaultdict(<class 'int'>, {'arts entertainment': 50, 'business technology': 50, 'comedy': 50, 'educational': 50, 'fiction': 50, 'games': 50, 'lifestyle health': 50, 'history': 50, 'kids family': 50, 'leisure': 50, 'music': 50, 'news politics': 50, 'religion spirituality': 50, 'science': 50, 'society culture': 50, 'sports recreation': 50, 'stories': 50, 'tv film': 50, 'technology': 50, 'top podcasts': 50})\n",
      "670\n",
      "defaultdict(<class 'int'>, {'arts entertainment': 50, 'business technology': 50, 'comedy': 50, 'educational': 50, 'fiction': 50, 'games': 50, 'lifestyle health': 50, 'history': 50, 'kids family': 50, 'leisure': 50, 'music': 50, 'news politics': 50, 'religion spirituality': 50, 'science': 50, 'society culture': 50, 'sports recreation': 50, 'stories': 50, 'tv film': 50, 'technology': 50, 'top podcasts': 50})\n",
      "670\n",
      "defaultdict(<class 'int'>, {'arts entertainment': 50, 'business technology': 50, 'comedy': 50, 'educational': 50, 'fiction': 50, 'games': 50, 'lifestyle health': 50, 'history': 50, 'kids family': 50, 'leisure': 50, 'music': 50, 'news politics': 50, 'religion spirituality': 50, 'science': 50, 'society culture': 50, 'sports recreation': 50, 'stories': 50, 'tv film': 50, 'technology': 50, 'top podcasts': 50})\n",
      "670\n",
      "defaultdict(<class 'int'>, {'arts entertainment': 50, 'business technology': 50, 'comedy': 50, 'educational': 50, 'fiction': 50, 'games': 50, 'lifestyle health': 50, 'history': 50, 'kids family': 50, 'leisure': 50, 'music': 50, 'news politics': 50, 'religion spirituality': 50, 'science': 50, 'society culture': 50, 'sports recreation': 50, 'stories': 50, 'tv film': 50, 'technology': 50, 'top podcasts': 50})\n",
      "670\n",
      "defaultdict(<class 'int'>, {'arts entertainment': 50, 'business technology': 50, 'comedy': 50, 'educational': 50, 'fiction': 50, 'games': 50, 'lifestyle health': 50, 'history': 50, 'kids family': 50, 'leisure': 50, 'music': 50, 'news politics': 50, 'religion spirituality': 50, 'science': 50, 'society culture': 50, 'sports recreation': 50, 'stories': 50, 'tv film': 50, 'technology': 50, 'top podcasts': 50})\n",
      "670\n",
      "defaultdict(<class 'int'>, {'arts entertainment': 50, 'business technology': 50, 'comedy': 50, 'educational': 50, 'fiction': 50, 'games': 50, 'lifestyle health': 50, 'history': 50, 'kids family': 50, 'leisure': 50, 'music': 50, 'news politics': 50, 'religion spirituality': 50, 'science': 50, 'society culture': 50, 'sports recreation': 50, 'stories': 50, 'tv film': 50, 'technology': 50, 'top podcasts': 50})\n",
      "670\n",
      "defaultdict(<class 'int'>, {'arts entertainment': 50, 'business technology': 50, 'comedy': 50, 'educational': 50, 'fiction': 50, 'games': 50, 'lifestyle health': 50, 'history': 50, 'kids family': 50, 'leisure': 50, 'music': 50, 'news politics': 50, 'religion spirituality': 50, 'science': 50, 'society culture': 50, 'sports recreation': 50, 'stories': 50, 'tv film': 50, 'technology': 50, 'top podcasts': 50})\n",
      "670\n",
      "defaultdict(<class 'int'>, {'arts entertainment': 50, 'business technology': 50, 'comedy': 50, 'educational': 50, 'fiction': 50, 'games': 50, 'lifestyle health': 50, 'history': 50, 'kids family': 50, 'leisure': 50, 'music': 50, 'news politics': 50, 'religion spirituality': 50, 'science': 50, 'society culture': 50, 'sports recreation': 50, 'stories': 50, 'tv film': 50, 'technology': 50, 'top podcasts': 50})\n",
      "670\n",
      "defaultdict(<class 'int'>, {'arts entertainment': 50, 'business technology': 50, 'comedy': 50, 'educational': 50, 'fiction': 50, 'games': 50, 'lifestyle health': 50, 'history': 50, 'kids family': 50, 'leisure': 50, 'music': 50, 'news politics': 50, 'religion spirituality': 50, 'science': 50, 'society culture': 50, 'sports recreation': 50, 'stories': 50, 'tv film': 50, 'technology': 50, 'top podcasts': 50})\n",
      "670\n",
      "defaultdict(<class 'int'>, {'arts entertainment': 50, 'business technology': 50, 'comedy': 50, 'educational': 50, 'fiction': 50, 'games': 50, 'lifestyle health': 50, 'history': 50, 'kids family': 50, 'leisure': 50, 'music': 50, 'news politics': 50, 'religion spirituality': 50, 'science': 50, 'society culture': 50, 'sports recreation': 50, 'stories': 50, 'tv film': 50, 'technology': 50, 'top podcasts': 50})\n",
      "670\n",
      "defaultdict(<class 'int'>, {'arts entertainment': 50, 'business technology': 50, 'comedy': 50, 'educational': 50, 'fiction': 50, 'games': 50, 'lifestyle health': 50, 'history': 50, 'kids family': 50, 'leisure': 50, 'music': 50, 'news politics': 50, 'religion spirituality': 50, 'science': 50, 'society culture': 50, 'sports recreation': 50, 'stories': 50, 'tv film': 50, 'technology': 50, 'top podcasts': 50})\n",
      "670\n",
      "defaultdict(<class 'int'>, {'arts entertainment': 50, 'business technology': 50, 'comedy': 50, 'educational': 50, 'fiction': 50, 'games': 50, 'lifestyle health': 50, 'history': 50, 'kids family': 50, 'leisure': 50, 'music': 50, 'news politics': 50, 'religion spirituality': 50, 'science': 50, 'society culture': 50, 'sports recreation': 50, 'stories': 50, 'tv film': 50, 'technology': 50, 'top podcasts': 50})\n",
      "670\n",
      "defaultdict(<class 'int'>, {'arts entertainment': 50, 'business technology': 50, 'comedy': 50, 'educational': 50, 'fiction': 50, 'games': 50, 'lifestyle health': 50, 'history': 50, 'kids family': 50, 'leisure': 50, 'music': 50, 'news politics': 50, 'religion spirituality': 50, 'science': 50, 'society culture': 50, 'sports recreation': 50, 'stories': 50, 'tv film': 50, 'technology': 50, 'top podcasts': 50})\n",
      "670\n",
      "defaultdict(<class 'int'>, {'arts entertainment': 50, 'business technology': 50, 'comedy': 50, 'educational': 50, 'fiction': 50, 'games': 50, 'lifestyle health': 50, 'history': 50, 'kids family': 50, 'leisure': 50, 'music': 50, 'news politics': 50, 'religion spirituality': 50, 'science': 50, 'society culture': 50, 'sports recreation': 50, 'stories': 50, 'tv film': 50, 'technology': 50, 'top podcasts': 50})\n",
      "670\n",
      "defaultdict(<class 'int'>, {'arts entertainment': 50, 'business technology': 50, 'comedy': 50, 'educational': 50, 'fiction': 50, 'games': 50, 'lifestyle health': 50, 'history': 50, 'kids family': 50, 'leisure': 50, 'music': 50, 'news politics': 50, 'religion spirituality': 50, 'science': 50, 'society culture': 50, 'sports recreation': 50, 'stories': 50, 'tv film': 50, 'technology': 50, 'top podcasts': 50})\n",
      "670\n",
      "defaultdict(<class 'int'>, {'arts entertainment': 50, 'business technology': 50, 'comedy': 50, 'educational': 50, 'fiction': 50, 'games': 50, 'lifestyle health': 50, 'history': 50, 'kids family': 50, 'leisure': 50, 'music': 50, 'news politics': 50, 'religion spirituality': 50, 'science': 50, 'society culture': 50, 'sports recreation': 50, 'stories': 50, 'tv film': 50, 'technology': 50, 'top podcasts': 50})\n",
      "670\n",
      "defaultdict(<class 'int'>, {'arts entertainment': 50, 'business technology': 50, 'comedy': 50, 'educational': 50, 'fiction': 50, 'games': 50, 'lifestyle health': 50, 'history': 50, 'kids family': 50, 'leisure': 50, 'music': 50, 'news politics': 50, 'religion spirituality': 50, 'science': 50, 'society culture': 50, 'sports recreation': 50, 'stories': 50, 'tv film': 50, 'technology': 50, 'top podcasts': 50})\n",
      "670\n",
      "defaultdict(<class 'int'>, {'arts entertainment': 50, 'business technology': 50, 'comedy': 50, 'educational': 50, 'fiction': 50, 'games': 50, 'lifestyle health': 50, 'history': 50, 'kids family': 50, 'leisure': 50, 'music': 50, 'news politics': 50, 'religion spirituality': 50, 'science': 50, 'society culture': 50, 'sports recreation': 50, 'stories': 50, 'tv film': 50, 'technology': 50, 'top podcasts': 50})\n",
      "670\n",
      "defaultdict(<class 'int'>, {'arts entertainment': 50, 'business technology': 50, 'comedy': 50, 'educational': 50, 'fiction': 50, 'games': 50, 'lifestyle health': 50, 'history': 50, 'kids family': 50, 'leisure': 50, 'music': 50, 'news politics': 50, 'religion spirituality': 50, 'science': 50, 'society culture': 50, 'sports recreation': 50, 'stories': 50, 'tv film': 50, 'technology': 50, 'top podcasts': 50})\n"
     ]
    },
    {
     "name": "stdout",
     "output_type": "stream",
     "text": [
      "670\n",
      "defaultdict(<class 'int'>, {'arts entertainment': 50, 'business technology': 50, 'comedy': 50, 'educational': 50, 'fiction': 50, 'games': 50, 'lifestyle health': 50, 'history': 50, 'kids family': 50, 'leisure': 50, 'music': 50, 'news politics': 50, 'religion spirituality': 50, 'science': 50, 'society culture': 50, 'sports recreation': 50, 'stories': 50, 'tv film': 50, 'technology': 50, 'top podcasts': 50})\n",
      "670\n",
      "defaultdict(<class 'int'>, {'arts entertainment': 50, 'business technology': 50, 'comedy': 50, 'educational': 50, 'fiction': 50, 'games': 50, 'lifestyle health': 50, 'history': 50, 'kids family': 50, 'leisure': 50, 'music': 50, 'news politics': 50, 'religion spirituality': 50, 'science': 50, 'society culture': 50, 'sports recreation': 50, 'stories': 50, 'tv film': 50, 'technology': 50, 'top podcasts': 50})\n",
      "670\n",
      "defaultdict(<class 'int'>, {'arts entertainment': 50, 'business technology': 50, 'comedy': 50, 'educational': 50, 'fiction': 50, 'games': 50, 'lifestyle health': 50, 'history': 50, 'kids family': 50, 'leisure': 50, 'music': 50, 'news politics': 50, 'religion spirituality': 50, 'science': 50, 'society culture': 50, 'sports recreation': 50, 'stories': 50, 'tv film': 50, 'technology': 50, 'top podcasts': 50})\n",
      "670\n",
      "defaultdict(<class 'int'>, {'arts entertainment': 50, 'business technology': 50, 'comedy': 50, 'educational': 50, 'fiction': 50, 'games': 50, 'lifestyle health': 50, 'history': 50, 'kids family': 50, 'leisure': 50, 'music': 50, 'news politics': 50, 'religion spirituality': 50, 'science': 50, 'society culture': 50, 'sports recreation': 50, 'stories': 50, 'tv film': 50, 'technology': 50, 'top podcasts': 50})\n",
      "670\n",
      "defaultdict(<class 'int'>, {'arts entertainment': 50, 'business technology': 50, 'comedy': 50, 'educational': 50, 'fiction': 50, 'games': 50, 'lifestyle health': 50, 'history': 50, 'kids family': 50, 'leisure': 50, 'music': 50, 'news politics': 50, 'religion spirituality': 50, 'science': 50, 'society culture': 50, 'sports recreation': 50, 'stories': 50, 'tv film': 50, 'technology': 50, 'top podcasts': 50})\n",
      "670\n",
      "defaultdict(<class 'int'>, {'arts entertainment': 50, 'business technology': 50, 'comedy': 50, 'educational': 50, 'fiction': 50, 'games': 50, 'lifestyle health': 50, 'history': 50, 'kids family': 50, 'leisure': 50, 'music': 50, 'news politics': 50, 'religion spirituality': 50, 'science': 50, 'society culture': 50, 'sports recreation': 50, 'stories': 50, 'tv film': 50, 'technology': 50, 'top podcasts': 50})\n",
      "670\n",
      "defaultdict(<class 'int'>, {'arts entertainment': 50, 'business technology': 50, 'comedy': 50, 'educational': 50, 'fiction': 50, 'games': 50, 'lifestyle health': 50, 'history': 50, 'kids family': 50, 'leisure': 50, 'music': 50, 'news politics': 50, 'religion spirituality': 50, 'science': 50, 'society culture': 50, 'sports recreation': 50, 'stories': 50, 'tv film': 50, 'technology': 50, 'top podcasts': 50})\n",
      "670\n",
      "defaultdict(<class 'int'>, {'arts entertainment': 50, 'business technology': 50, 'comedy': 50, 'educational': 50, 'fiction': 50, 'games': 50, 'lifestyle health': 50, 'history': 50, 'kids family': 50, 'leisure': 50, 'music': 50, 'news politics': 50, 'religion spirituality': 50, 'science': 50, 'society culture': 50, 'sports recreation': 50, 'stories': 50, 'tv film': 50, 'technology': 50, 'top podcasts': 50})\n",
      "670\n",
      "defaultdict(<class 'int'>, {'arts entertainment': 50, 'business technology': 50, 'comedy': 50, 'educational': 50, 'fiction': 50, 'games': 50, 'lifestyle health': 50, 'history': 50, 'kids family': 50, 'leisure': 50, 'music': 50, 'news politics': 50, 'religion spirituality': 50, 'science': 50, 'society culture': 50, 'sports recreation': 50, 'stories': 50, 'tv film': 50, 'technology': 50, 'top podcasts': 50})\n",
      "670\n",
      "defaultdict(<class 'int'>, {'arts entertainment': 50, 'business technology': 50, 'comedy': 50, 'educational': 50, 'fiction': 50, 'games': 50, 'lifestyle health': 50, 'history': 50, 'kids family': 50, 'leisure': 50, 'music': 50, 'news politics': 50, 'religion spirituality': 50, 'science': 50, 'society culture': 50, 'sports recreation': 50, 'stories': 50, 'tv film': 50, 'technology': 50, 'top podcasts': 50})\n",
      "670\n",
      "defaultdict(<class 'int'>, {'arts entertainment': 50, 'business technology': 50, 'comedy': 50, 'educational': 50, 'fiction': 50, 'games': 50, 'lifestyle health': 50, 'history': 50, 'kids family': 50, 'leisure': 50, 'music': 50, 'news politics': 50, 'religion spirituality': 50, 'science': 50, 'society culture': 50, 'sports recreation': 50, 'stories': 50, 'tv film': 50, 'technology': 50, 'top podcasts': 50})\n",
      "670\n",
      "defaultdict(<class 'int'>, {'arts entertainment': 50, 'business technology': 50, 'comedy': 50, 'educational': 50, 'fiction': 50, 'games': 50, 'lifestyle health': 50, 'history': 50, 'kids family': 50, 'leisure': 50, 'music': 50, 'news politics': 50, 'religion spirituality': 50, 'science': 50, 'society culture': 50, 'sports recreation': 50, 'stories': 50, 'tv film': 50, 'technology': 50, 'top podcasts': 50})\n",
      "670\n",
      "defaultdict(<class 'int'>, {'arts entertainment': 50, 'business technology': 50, 'comedy': 50, 'educational': 50, 'fiction': 50, 'games': 50, 'lifestyle health': 50, 'history': 50, 'kids family': 50, 'leisure': 50, 'music': 50, 'news politics': 50, 'religion spirituality': 50, 'science': 50, 'society culture': 50, 'sports recreation': 50, 'stories': 50, 'tv film': 50, 'technology': 50, 'top podcasts': 50})\n",
      "670\n",
      "defaultdict(<class 'int'>, {'arts entertainment': 50, 'business technology': 50, 'comedy': 50, 'educational': 50, 'fiction': 50, 'games': 50, 'lifestyle health': 50, 'history': 50, 'kids family': 50, 'leisure': 50, 'music': 50, 'news politics': 50, 'religion spirituality': 50, 'science': 50, 'society culture': 50, 'sports recreation': 50, 'stories': 50, 'tv film': 50, 'technology': 50, 'top podcasts': 50})\n",
      "670\n",
      "defaultdict(<class 'int'>, {'arts entertainment': 50, 'business technology': 50, 'comedy': 50, 'educational': 50, 'fiction': 50, 'games': 50, 'lifestyle health': 50, 'history': 50, 'kids family': 50, 'leisure': 50, 'music': 50, 'news politics': 50, 'religion spirituality': 50, 'science': 50, 'society culture': 50, 'sports recreation': 50, 'stories': 50, 'tv film': 50, 'technology': 50, 'top podcasts': 50})\n",
      "670\n",
      "defaultdict(<class 'int'>, {'arts entertainment': 50, 'business technology': 50, 'comedy': 50, 'educational': 50, 'fiction': 50, 'games': 50, 'lifestyle health': 50, 'history': 50, 'kids family': 50, 'leisure': 50, 'music': 50, 'news politics': 50, 'religion spirituality': 50, 'science': 50, 'society culture': 50, 'sports recreation': 50, 'stories': 50, 'tv film': 50, 'technology': 50, 'top podcasts': 50})\n",
      "670\n",
      "defaultdict(<class 'int'>, {'arts entertainment': 50, 'business technology': 50, 'comedy': 50, 'educational': 50, 'fiction': 50, 'games': 50, 'lifestyle health': 50, 'history': 50, 'kids family': 50, 'leisure': 50, 'music': 50, 'news politics': 50, 'religion spirituality': 50, 'science': 50, 'society culture': 50, 'sports recreation': 50, 'stories': 50, 'tv film': 50, 'technology': 50, 'top podcasts': 50})\n",
      "670\n",
      "defaultdict(<class 'int'>, {'arts entertainment': 50, 'business technology': 50, 'comedy': 50, 'educational': 50, 'fiction': 50, 'games': 50, 'lifestyle health': 50, 'history': 50, 'kids family': 50, 'leisure': 50, 'music': 50, 'news politics': 50, 'religion spirituality': 50, 'science': 50, 'society culture': 50, 'sports recreation': 50, 'stories': 50, 'tv film': 50, 'technology': 50, 'top podcasts': 50})\n",
      "670\n",
      "defaultdict(<class 'int'>, {'arts entertainment': 50, 'business technology': 50, 'comedy': 50, 'educational': 50, 'fiction': 50, 'games': 50, 'lifestyle health': 50, 'history': 50, 'kids family': 50, 'leisure': 50, 'music': 50, 'news politics': 50, 'religion spirituality': 50, 'science': 50, 'society culture': 50, 'sports recreation': 50, 'stories': 50, 'tv film': 50, 'technology': 50, 'top podcasts': 50})\n",
      "670\n",
      "defaultdict(<class 'int'>, {'arts entertainment': 50, 'business technology': 50, 'comedy': 50, 'educational': 50, 'fiction': 50, 'games': 50, 'lifestyle health': 50, 'history': 50, 'kids family': 50, 'leisure': 50, 'music': 50, 'news politics': 50, 'religion spirituality': 50, 'science': 50, 'society culture': 50, 'sports recreation': 50, 'stories': 50, 'tv film': 50, 'technology': 50, 'top podcasts': 50})\n"
     ]
    },
    {
     "name": "stdout",
     "output_type": "stream",
     "text": [
      "670\n",
      "defaultdict(<class 'int'>, {'arts entertainment': 50, 'business technology': 50, 'comedy': 50, 'educational': 50, 'fiction': 50, 'games': 50, 'lifestyle health': 50, 'history': 50, 'kids family': 50, 'leisure': 50, 'music': 50, 'news politics': 50, 'religion spirituality': 50, 'science': 50, 'society culture': 50, 'sports recreation': 50, 'stories': 50, 'tv film': 50, 'technology': 50, 'top podcasts': 50})\n",
      "670\n",
      "defaultdict(<class 'int'>, {'arts entertainment': 50, 'business technology': 50, 'comedy': 50, 'educational': 50, 'fiction': 50, 'games': 50, 'lifestyle health': 50, 'history': 50, 'kids family': 50, 'leisure': 50, 'music': 50, 'news politics': 50, 'religion spirituality': 50, 'science': 50, 'society culture': 50, 'sports recreation': 50, 'stories': 50, 'tv film': 50, 'technology': 50, 'top podcasts': 50})\n",
      "670\n",
      "defaultdict(<class 'int'>, {'arts entertainment': 50, 'business technology': 50, 'comedy': 50, 'educational': 50, 'fiction': 50, 'games': 50, 'lifestyle health': 50, 'history': 50, 'kids family': 50, 'leisure': 50, 'music': 50, 'news politics': 50, 'religion spirituality': 50, 'science': 50, 'society culture': 50, 'sports recreation': 50, 'stories': 50, 'tv film': 50, 'technology': 50, 'top podcasts': 50})\n",
      "670\n",
      "defaultdict(<class 'int'>, {'arts entertainment': 50, 'business technology': 50, 'comedy': 50, 'educational': 50, 'fiction': 50, 'games': 50, 'lifestyle health': 50, 'history': 50, 'kids family': 50, 'leisure': 50, 'music': 50, 'news politics': 50, 'religion spirituality': 50, 'science': 50, 'society culture': 50, 'sports recreation': 50, 'stories': 50, 'tv film': 50, 'technology': 50, 'top podcasts': 50})\n",
      "670\n",
      "defaultdict(<class 'int'>, {'arts entertainment': 50, 'business technology': 50, 'comedy': 50, 'educational': 50, 'fiction': 50, 'games': 50, 'lifestyle health': 50, 'history': 50, 'kids family': 50, 'leisure': 50, 'music': 50, 'news politics': 50, 'religion spirituality': 50, 'science': 50, 'society culture': 50, 'sports recreation': 50, 'stories': 50, 'tv film': 50, 'technology': 50, 'top podcasts': 50})\n",
      "670\n",
      "defaultdict(<class 'int'>, {'arts entertainment': 50, 'business technology': 50, 'comedy': 50, 'educational': 50, 'fiction': 50, 'games': 50, 'lifestyle health': 50, 'history': 50, 'kids family': 50, 'leisure': 50, 'music': 50, 'news politics': 50, 'religion spirituality': 50, 'science': 50, 'society culture': 50, 'sports recreation': 50, 'stories': 50, 'tv film': 50, 'technology': 50, 'top podcasts': 50})\n",
      "670\n",
      "defaultdict(<class 'int'>, {'arts entertainment': 50, 'business technology': 50, 'comedy': 50, 'educational': 50, 'fiction': 50, 'games': 50, 'lifestyle health': 50, 'history': 50, 'kids family': 50, 'leisure': 50, 'music': 50, 'news politics': 50, 'religion spirituality': 50, 'science': 50, 'society culture': 50, 'sports recreation': 50, 'stories': 50, 'tv film': 50, 'technology': 50, 'top podcasts': 50})\n",
      "670\n",
      "defaultdict(<class 'int'>, {'arts entertainment': 50, 'business technology': 50, 'comedy': 50, 'educational': 50, 'fiction': 50, 'games': 50, 'lifestyle health': 50, 'history': 50, 'kids family': 50, 'leisure': 50, 'music': 50, 'news politics': 50, 'religion spirituality': 50, 'science': 50, 'society culture': 50, 'sports recreation': 50, 'stories': 50, 'tv film': 50, 'technology': 50, 'top podcasts': 50})\n",
      "670\n",
      "defaultdict(<class 'int'>, {'arts entertainment': 50, 'business technology': 50, 'comedy': 50, 'educational': 50, 'fiction': 50, 'games': 50, 'lifestyle health': 50, 'history': 50, 'kids family': 50, 'leisure': 50, 'music': 50, 'news politics': 50, 'religion spirituality': 50, 'science': 50, 'society culture': 50, 'sports recreation': 50, 'stories': 50, 'tv film': 50, 'technology': 50, 'top podcasts': 50})\n",
      "670\n",
      "defaultdict(<class 'int'>, {'arts entertainment': 50, 'business technology': 50, 'comedy': 50, 'educational': 50, 'fiction': 50, 'games': 50, 'lifestyle health': 50, 'history': 50, 'kids family': 50, 'leisure': 50, 'music': 50, 'news politics': 50, 'religion spirituality': 50, 'science': 50, 'society culture': 50, 'sports recreation': 50, 'stories': 50, 'tv film': 50, 'technology': 50, 'top podcasts': 50})\n",
      "670\n",
      "defaultdict(<class 'int'>, {'arts entertainment': 50, 'business technology': 50, 'comedy': 50, 'educational': 50, 'fiction': 50, 'games': 50, 'lifestyle health': 50, 'history': 50, 'kids family': 50, 'leisure': 50, 'music': 50, 'news politics': 50, 'religion spirituality': 50, 'science': 50, 'society culture': 50, 'sports recreation': 50, 'stories': 50, 'tv film': 50, 'technology': 50, 'top podcasts': 50})\n",
      "670\n",
      "defaultdict(<class 'int'>, {'arts entertainment': 50, 'business technology': 50, 'comedy': 50, 'educational': 50, 'fiction': 50, 'games': 50, 'lifestyle health': 50, 'history': 50, 'kids family': 50, 'leisure': 50, 'music': 50, 'news politics': 50, 'religion spirituality': 50, 'science': 50, 'society culture': 50, 'sports recreation': 50, 'stories': 50, 'tv film': 50, 'technology': 50, 'top podcasts': 50})\n",
      "670\n",
      "defaultdict(<class 'int'>, {'arts entertainment': 50, 'business technology': 50, 'comedy': 50, 'educational': 50, 'fiction': 50, 'games': 50, 'lifestyle health': 50, 'history': 50, 'kids family': 50, 'leisure': 50, 'music': 50, 'news politics': 50, 'religion spirituality': 50, 'science': 50, 'society culture': 50, 'sports recreation': 50, 'stories': 50, 'tv film': 50, 'technology': 50, 'top podcasts': 50})\n",
      "670\n",
      "defaultdict(<class 'int'>, {'arts entertainment': 50, 'business technology': 50, 'comedy': 50, 'educational': 50, 'fiction': 50, 'games': 50, 'lifestyle health': 50, 'history': 50, 'kids family': 50, 'leisure': 50, 'music': 50, 'news politics': 50, 'religion spirituality': 50, 'science': 50, 'society culture': 50, 'sports recreation': 50, 'stories': 50, 'tv film': 50, 'technology': 50, 'top podcasts': 50})\n",
      "670\n",
      "defaultdict(<class 'int'>, {'arts entertainment': 50, 'business technology': 50, 'comedy': 50, 'educational': 50, 'fiction': 50, 'games': 50, 'lifestyle health': 50, 'history': 50, 'kids family': 50, 'leisure': 50, 'music': 50, 'news politics': 50, 'religion spirituality': 50, 'science': 50, 'society culture': 50, 'sports recreation': 50, 'stories': 50, 'tv film': 50, 'technology': 50, 'top podcasts': 50})\n",
      "670\n",
      "defaultdict(<class 'int'>, {'arts entertainment': 50, 'business technology': 50, 'comedy': 50, 'educational': 50, 'fiction': 50, 'games': 50, 'lifestyle health': 50, 'history': 50, 'kids family': 50, 'leisure': 50, 'music': 50, 'news politics': 50, 'religion spirituality': 50, 'science': 50, 'society culture': 50, 'sports recreation': 50, 'stories': 50, 'tv film': 50, 'technology': 50, 'top podcasts': 50})\n",
      "670\n",
      "defaultdict(<class 'int'>, {'arts entertainment': 50, 'business technology': 50, 'comedy': 50, 'educational': 50, 'fiction': 50, 'games': 50, 'lifestyle health': 50, 'history': 50, 'kids family': 50, 'leisure': 50, 'music': 50, 'news politics': 50, 'religion spirituality': 50, 'science': 50, 'society culture': 50, 'sports recreation': 50, 'stories': 50, 'tv film': 50, 'technology': 50, 'top podcasts': 50})\n",
      "670\n",
      "defaultdict(<class 'int'>, {'arts entertainment': 50, 'business technology': 50, 'comedy': 50, 'educational': 50, 'fiction': 50, 'games': 50, 'lifestyle health': 50, 'history': 50, 'kids family': 50, 'leisure': 50, 'music': 50, 'news politics': 50, 'religion spirituality': 50, 'science': 50, 'society culture': 50, 'sports recreation': 50, 'stories': 50, 'tv film': 50, 'technology': 50, 'top podcasts': 50})\n",
      "670\n",
      "defaultdict(<class 'int'>, {'arts entertainment': 50, 'business technology': 50, 'comedy': 50, 'educational': 50, 'fiction': 50, 'games': 50, 'lifestyle health': 50, 'history': 50, 'kids family': 50, 'leisure': 50, 'music': 50, 'news politics': 50, 'religion spirituality': 50, 'science': 50, 'society culture': 50, 'sports recreation': 50, 'stories': 50, 'tv film': 50, 'technology': 50, 'top podcasts': 50})\n",
      "670\n",
      "defaultdict(<class 'int'>, {'arts entertainment': 50, 'business technology': 50, 'comedy': 50, 'educational': 50, 'fiction': 50, 'games': 50, 'lifestyle health': 50, 'history': 50, 'kids family': 50, 'leisure': 50, 'music': 50, 'news politics': 50, 'religion spirituality': 50, 'science': 50, 'society culture': 50, 'sports recreation': 50, 'stories': 50, 'tv film': 50, 'technology': 50, 'top podcasts': 50})\n"
     ]
    },
    {
     "name": "stdout",
     "output_type": "stream",
     "text": [
      "670\n",
      "defaultdict(<class 'int'>, {'arts entertainment': 50, 'business technology': 50, 'comedy': 50, 'educational': 50, 'fiction': 50, 'games': 50, 'lifestyle health': 50, 'history': 50, 'kids family': 50, 'leisure': 50, 'music': 50, 'news politics': 50, 'religion spirituality': 50, 'science': 50, 'society culture': 50, 'sports recreation': 50, 'stories': 50, 'tv film': 50, 'technology': 50, 'top podcasts': 50})\n",
      "670\n",
      "defaultdict(<class 'int'>, {'arts entertainment': 50, 'business technology': 50, 'comedy': 50, 'educational': 50, 'fiction': 50, 'games': 50, 'lifestyle health': 50, 'history': 50, 'kids family': 50, 'leisure': 50, 'music': 50, 'news politics': 50, 'religion spirituality': 50, 'science': 50, 'society culture': 50, 'sports recreation': 50, 'stories': 50, 'tv film': 50, 'technology': 50, 'top podcasts': 50})\n",
      "670\n",
      "defaultdict(<class 'int'>, {'arts entertainment': 50, 'business technology': 50, 'comedy': 50, 'educational': 50, 'fiction': 50, 'games': 50, 'lifestyle health': 50, 'history': 50, 'kids family': 50, 'leisure': 50, 'music': 50, 'news politics': 50, 'religion spirituality': 50, 'science': 50, 'society culture': 50, 'sports recreation': 50, 'stories': 50, 'tv film': 50, 'technology': 50, 'top podcasts': 50})\n",
      "670\n",
      "defaultdict(<class 'int'>, {'arts entertainment': 50, 'business technology': 50, 'comedy': 50, 'educational': 50, 'fiction': 50, 'games': 50, 'lifestyle health': 50, 'history': 50, 'kids family': 50, 'leisure': 50, 'music': 50, 'news politics': 50, 'religion spirituality': 50, 'science': 50, 'society culture': 50, 'sports recreation': 50, 'stories': 50, 'tv film': 50, 'technology': 50, 'top podcasts': 50})\n",
      "670\n",
      "defaultdict(<class 'int'>, {'arts entertainment': 50, 'business technology': 50, 'comedy': 50, 'educational': 50, 'fiction': 50, 'games': 50, 'lifestyle health': 50, 'history': 50, 'kids family': 50, 'leisure': 50, 'music': 50, 'news politics': 50, 'religion spirituality': 50, 'science': 50, 'society culture': 50, 'sports recreation': 50, 'stories': 50, 'tv film': 50, 'technology': 50, 'top podcasts': 50})\n",
      "670\n",
      "defaultdict(<class 'int'>, {'arts entertainment': 50, 'business technology': 50, 'comedy': 50, 'educational': 50, 'fiction': 50, 'games': 50, 'lifestyle health': 50, 'history': 50, 'kids family': 50, 'leisure': 50, 'music': 50, 'news politics': 50, 'religion spirituality': 50, 'science': 50, 'society culture': 50, 'sports recreation': 50, 'stories': 50, 'tv film': 50, 'technology': 50, 'top podcasts': 50})\n",
      "670\n",
      "defaultdict(<class 'int'>, {'arts entertainment': 50, 'business technology': 50, 'comedy': 50, 'educational': 50, 'fiction': 50, 'games': 50, 'lifestyle health': 50, 'history': 50, 'kids family': 50, 'leisure': 50, 'music': 50, 'news politics': 50, 'religion spirituality': 50, 'science': 50, 'society culture': 50, 'sports recreation': 50, 'stories': 50, 'tv film': 50, 'technology': 50, 'top podcasts': 50})\n",
      "670\n",
      "defaultdict(<class 'int'>, {'arts entertainment': 50, 'business technology': 50, 'comedy': 50, 'educational': 50, 'fiction': 50, 'games': 50, 'lifestyle health': 50, 'history': 50, 'kids family': 50, 'leisure': 50, 'music': 50, 'news politics': 50, 'religion spirituality': 50, 'science': 50, 'society culture': 50, 'sports recreation': 50, 'stories': 50, 'tv film': 50, 'technology': 50, 'top podcasts': 50})\n",
      "670\n",
      "defaultdict(<class 'int'>, {'arts entertainment': 50, 'business technology': 50, 'comedy': 50, 'educational': 50, 'fiction': 50, 'games': 50, 'lifestyle health': 50, 'history': 50, 'kids family': 50, 'leisure': 50, 'music': 50, 'news politics': 50, 'religion spirituality': 50, 'science': 50, 'society culture': 50, 'sports recreation': 50, 'stories': 50, 'tv film': 50, 'technology': 50, 'top podcasts': 50})\n",
      "670\n",
      "defaultdict(<class 'int'>, {'arts entertainment': 50, 'business technology': 50, 'comedy': 50, 'educational': 50, 'fiction': 50, 'games': 50, 'lifestyle health': 50, 'history': 50, 'kids family': 50, 'leisure': 50, 'music': 50, 'news politics': 50, 'religion spirituality': 50, 'science': 50, 'society culture': 50, 'sports recreation': 50, 'stories': 50, 'tv film': 50, 'technology': 50, 'top podcasts': 50})\n",
      "670\n",
      "defaultdict(<class 'int'>, {'arts entertainment': 50, 'business technology': 50, 'comedy': 50, 'educational': 50, 'fiction': 50, 'games': 50, 'lifestyle health': 50, 'history': 50, 'kids family': 50, 'leisure': 50, 'music': 50, 'news politics': 50, 'religion spirituality': 50, 'science': 50, 'society culture': 50, 'sports recreation': 50, 'stories': 50, 'tv film': 50, 'technology': 50, 'top podcasts': 50})\n",
      "670\n",
      "defaultdict(<class 'int'>, {'arts entertainment': 50, 'business technology': 50, 'comedy': 50, 'educational': 50, 'fiction': 50, 'games': 50, 'lifestyle health': 50, 'history': 50, 'kids family': 50, 'leisure': 50, 'music': 50, 'news politics': 50, 'religion spirituality': 50, 'science': 50, 'society culture': 50, 'sports recreation': 50, 'stories': 50, 'tv film': 50, 'technology': 50, 'top podcasts': 50})\n",
      "670\n",
      "defaultdict(<class 'int'>, {'arts entertainment': 50, 'business technology': 50, 'comedy': 50, 'educational': 50, 'fiction': 50, 'games': 50, 'lifestyle health': 50, 'history': 50, 'kids family': 50, 'leisure': 50, 'music': 50, 'news politics': 50, 'religion spirituality': 50, 'science': 50, 'society culture': 50, 'sports recreation': 50, 'stories': 50, 'tv film': 50, 'technology': 50, 'top podcasts': 50})\n",
      "670\n",
      "defaultdict(<class 'int'>, {'arts entertainment': 50, 'business technology': 50, 'comedy': 50, 'educational': 50, 'fiction': 50, 'games': 50, 'lifestyle health': 50, 'history': 50, 'kids family': 50, 'leisure': 50, 'music': 50, 'news politics': 50, 'religion spirituality': 50, 'science': 50, 'society culture': 50, 'sports recreation': 50, 'stories': 50, 'tv film': 50, 'technology': 50, 'top podcasts': 50})\n",
      "670\n",
      "defaultdict(<class 'int'>, {'arts entertainment': 50, 'business technology': 50, 'comedy': 50, 'educational': 50, 'fiction': 50, 'games': 50, 'lifestyle health': 50, 'history': 50, 'kids family': 50, 'leisure': 50, 'music': 50, 'news politics': 50, 'religion spirituality': 50, 'science': 50, 'society culture': 50, 'sports recreation': 50, 'stories': 50, 'tv film': 50, 'technology': 50, 'top podcasts': 50})\n",
      "670\n",
      "defaultdict(<class 'int'>, {'arts entertainment': 50, 'business technology': 50, 'comedy': 50, 'educational': 50, 'fiction': 50, 'games': 50, 'lifestyle health': 50, 'history': 50, 'kids family': 50, 'leisure': 50, 'music': 50, 'news politics': 50, 'religion spirituality': 50, 'science': 50, 'society culture': 50, 'sports recreation': 50, 'stories': 50, 'tv film': 50, 'technology': 50, 'top podcasts': 50})\n",
      "670\n",
      "defaultdict(<class 'int'>, {'arts entertainment': 50, 'business technology': 50, 'comedy': 50, 'educational': 50, 'fiction': 50, 'games': 50, 'lifestyle health': 50, 'history': 50, 'kids family': 50, 'leisure': 50, 'music': 50, 'news politics': 50, 'religion spirituality': 50, 'science': 50, 'society culture': 50, 'sports recreation': 50, 'stories': 50, 'tv film': 50, 'technology': 50, 'top podcasts': 50})\n",
      "670\n",
      "defaultdict(<class 'int'>, {'arts entertainment': 50, 'business technology': 50, 'comedy': 50, 'educational': 50, 'fiction': 50, 'games': 50, 'lifestyle health': 50, 'history': 50, 'kids family': 50, 'leisure': 50, 'music': 50, 'news politics': 50, 'religion spirituality': 50, 'science': 50, 'society culture': 50, 'sports recreation': 50, 'stories': 50, 'tv film': 50, 'technology': 50, 'top podcasts': 50})\n",
      "670\n",
      "defaultdict(<class 'int'>, {'arts entertainment': 50, 'business technology': 50, 'comedy': 50, 'educational': 50, 'fiction': 50, 'games': 50, 'lifestyle health': 50, 'history': 50, 'kids family': 50, 'leisure': 50, 'music': 50, 'news politics': 50, 'religion spirituality': 50, 'science': 50, 'society culture': 50, 'sports recreation': 50, 'stories': 50, 'tv film': 50, 'technology': 50, 'top podcasts': 50})\n",
      "670\n",
      "defaultdict(<class 'int'>, {'arts entertainment': 50, 'business technology': 50, 'comedy': 50, 'educational': 50, 'fiction': 50, 'games': 50, 'lifestyle health': 50, 'history': 50, 'kids family': 50, 'leisure': 50, 'music': 50, 'news politics': 50, 'religion spirituality': 50, 'science': 50, 'society culture': 50, 'sports recreation': 50, 'stories': 50, 'tv film': 50, 'technology': 50, 'top podcasts': 50})\n"
     ]
    },
    {
     "name": "stdout",
     "output_type": "stream",
     "text": [
      "670\n",
      "defaultdict(<class 'int'>, {'arts entertainment': 50, 'business technology': 50, 'comedy': 50, 'educational': 50, 'fiction': 50, 'games': 50, 'lifestyle health': 50, 'history': 50, 'kids family': 50, 'leisure': 50, 'music': 50, 'news politics': 50, 'religion spirituality': 50, 'science': 50, 'society culture': 50, 'sports recreation': 50, 'stories': 50, 'tv film': 50, 'technology': 50, 'top podcasts': 50})\n",
      "670\n",
      "defaultdict(<class 'int'>, {'arts entertainment': 50, 'business technology': 50, 'comedy': 50, 'educational': 50, 'fiction': 50, 'games': 50, 'lifestyle health': 50, 'history': 50, 'kids family': 50, 'leisure': 50, 'music': 50, 'news politics': 50, 'religion spirituality': 50, 'science': 50, 'society culture': 50, 'sports recreation': 50, 'stories': 50, 'tv film': 50, 'technology': 50, 'top podcasts': 50})\n",
      "670\n",
      "defaultdict(<class 'int'>, {'arts entertainment': 50, 'business technology': 50, 'comedy': 50, 'educational': 50, 'fiction': 50, 'games': 50, 'lifestyle health': 50, 'history': 50, 'kids family': 50, 'leisure': 50, 'music': 50, 'news politics': 50, 'religion spirituality': 50, 'science': 50, 'society culture': 50, 'sports recreation': 50, 'stories': 50, 'tv film': 50, 'technology': 50, 'top podcasts': 50})\n",
      "670\n",
      "defaultdict(<class 'int'>, {'arts entertainment': 50, 'business technology': 50, 'comedy': 50, 'educational': 50, 'fiction': 50, 'games': 50, 'lifestyle health': 50, 'history': 50, 'kids family': 50, 'leisure': 50, 'music': 50, 'news politics': 50, 'religion spirituality': 50, 'science': 50, 'society culture': 50, 'sports recreation': 50, 'stories': 50, 'tv film': 50, 'technology': 50, 'top podcasts': 50})\n",
      "670\n",
      "defaultdict(<class 'int'>, {'arts entertainment': 50, 'business technology': 50, 'comedy': 50, 'educational': 50, 'fiction': 50, 'games': 50, 'lifestyle health': 50, 'history': 50, 'kids family': 50, 'leisure': 50, 'music': 50, 'news politics': 50, 'religion spirituality': 50, 'science': 50, 'society culture': 50, 'sports recreation': 50, 'stories': 50, 'tv film': 50, 'technology': 50, 'top podcasts': 50})\n",
      "670\n",
      "defaultdict(<class 'int'>, {'arts entertainment': 50, 'business technology': 50, 'comedy': 50, 'educational': 50, 'fiction': 50, 'games': 50, 'lifestyle health': 50, 'history': 50, 'kids family': 50, 'leisure': 50, 'music': 50, 'news politics': 50, 'religion spirituality': 50, 'science': 50, 'society culture': 50, 'sports recreation': 50, 'stories': 50, 'tv film': 50, 'technology': 50, 'top podcasts': 50})\n",
      "670\n",
      "defaultdict(<class 'int'>, {'arts entertainment': 50, 'business technology': 50, 'comedy': 50, 'educational': 50, 'fiction': 50, 'games': 50, 'lifestyle health': 50, 'history': 50, 'kids family': 50, 'leisure': 50, 'music': 50, 'news politics': 50, 'religion spirituality': 50, 'science': 50, 'society culture': 50, 'sports recreation': 50, 'stories': 50, 'tv film': 50, 'technology': 50, 'top podcasts': 50})\n",
      "670\n",
      "defaultdict(<class 'int'>, {'arts entertainment': 50, 'business technology': 50, 'comedy': 50, 'educational': 50, 'fiction': 50, 'games': 50, 'lifestyle health': 50, 'history': 50, 'kids family': 50, 'leisure': 50, 'music': 50, 'news politics': 50, 'religion spirituality': 50, 'science': 50, 'society culture': 50, 'sports recreation': 50, 'stories': 50, 'tv film': 50, 'technology': 50, 'top podcasts': 50})\n",
      "670\n",
      "defaultdict(<class 'int'>, {'arts entertainment': 50, 'business technology': 50, 'comedy': 50, 'educational': 50, 'fiction': 50, 'games': 50, 'lifestyle health': 50, 'history': 50, 'kids family': 50, 'leisure': 50, 'music': 50, 'news politics': 50, 'religion spirituality': 50, 'science': 50, 'society culture': 50, 'sports recreation': 50, 'stories': 50, 'tv film': 50, 'technology': 50, 'top podcasts': 50})\n",
      "670\n",
      "defaultdict(<class 'int'>, {'arts entertainment': 50, 'business technology': 50, 'comedy': 50, 'educational': 50, 'fiction': 50, 'games': 50, 'lifestyle health': 50, 'history': 50, 'kids family': 50, 'leisure': 50, 'music': 50, 'news politics': 50, 'religion spirituality': 50, 'science': 50, 'society culture': 50, 'sports recreation': 50, 'stories': 50, 'tv film': 50, 'technology': 50, 'top podcasts': 50})\n",
      "670\n",
      "defaultdict(<class 'int'>, {'arts entertainment': 50, 'business technology': 50, 'comedy': 50, 'educational': 50, 'fiction': 50, 'games': 50, 'lifestyle health': 50, 'history': 50, 'kids family': 50, 'leisure': 50, 'music': 50, 'news politics': 50, 'religion spirituality': 50, 'science': 50, 'society culture': 50, 'sports recreation': 50, 'stories': 50, 'tv film': 50, 'technology': 50, 'top podcasts': 50})\n",
      "670\n",
      "defaultdict(<class 'int'>, {'arts entertainment': 50, 'business technology': 50, 'comedy': 50, 'educational': 50, 'fiction': 50, 'games': 50, 'lifestyle health': 50, 'history': 50, 'kids family': 50, 'leisure': 50, 'music': 50, 'news politics': 50, 'religion spirituality': 50, 'science': 50, 'society culture': 50, 'sports recreation': 50, 'stories': 50, 'tv film': 50, 'technology': 50, 'top podcasts': 50})\n",
      "670\n",
      "defaultdict(<class 'int'>, {'arts entertainment': 50, 'business technology': 50, 'comedy': 50, 'educational': 50, 'fiction': 50, 'games': 50, 'lifestyle health': 50, 'history': 50, 'kids family': 50, 'leisure': 50, 'music': 50, 'news politics': 50, 'religion spirituality': 50, 'science': 50, 'society culture': 50, 'sports recreation': 50, 'stories': 50, 'tv film': 50, 'technology': 50, 'top podcasts': 50})\n",
      "670\n",
      "defaultdict(<class 'int'>, {'arts entertainment': 50, 'business technology': 50, 'comedy': 50, 'educational': 50, 'fiction': 50, 'games': 50, 'lifestyle health': 50, 'history': 50, 'kids family': 50, 'leisure': 50, 'music': 50, 'news politics': 50, 'religion spirituality': 50, 'science': 50, 'society culture': 50, 'sports recreation': 50, 'stories': 50, 'tv film': 50, 'technology': 50, 'top podcasts': 50})\n",
      "670\n",
      "defaultdict(<class 'int'>, {'arts entertainment': 50, 'business technology': 50, 'comedy': 50, 'educational': 50, 'fiction': 50, 'games': 50, 'lifestyle health': 50, 'history': 50, 'kids family': 50, 'leisure': 50, 'music': 50, 'news politics': 50, 'religion spirituality': 50, 'science': 50, 'society culture': 50, 'sports recreation': 50, 'stories': 50, 'tv film': 50, 'technology': 50, 'top podcasts': 50})\n",
      "670\n",
      "defaultdict(<class 'int'>, {'arts entertainment': 50, 'business technology': 50, 'comedy': 50, 'educational': 50, 'fiction': 50, 'games': 50, 'lifestyle health': 50, 'history': 50, 'kids family': 50, 'leisure': 50, 'music': 50, 'news politics': 50, 'religion spirituality': 50, 'science': 50, 'society culture': 50, 'sports recreation': 50, 'stories': 50, 'tv film': 50, 'technology': 50, 'top podcasts': 50})\n",
      "670\n",
      "defaultdict(<class 'int'>, {'arts entertainment': 50, 'business technology': 50, 'comedy': 50, 'educational': 50, 'fiction': 50, 'games': 50, 'lifestyle health': 50, 'history': 50, 'kids family': 50, 'leisure': 50, 'music': 50, 'news politics': 50, 'religion spirituality': 50, 'science': 50, 'society culture': 50, 'sports recreation': 50, 'stories': 50, 'tv film': 50, 'technology': 50, 'top podcasts': 50})\n",
      "670\n",
      "defaultdict(<class 'int'>, {'arts entertainment': 50, 'business technology': 50, 'comedy': 50, 'educational': 50, 'fiction': 50, 'games': 50, 'lifestyle health': 50, 'history': 50, 'kids family': 50, 'leisure': 50, 'music': 50, 'news politics': 50, 'religion spirituality': 50, 'science': 50, 'society culture': 50, 'sports recreation': 50, 'stories': 50, 'tv film': 50, 'technology': 50, 'top podcasts': 50})\n",
      "670\n",
      "defaultdict(<class 'int'>, {'arts entertainment': 50, 'business technology': 50, 'comedy': 50, 'educational': 50, 'fiction': 50, 'games': 50, 'lifestyle health': 50, 'history': 50, 'kids family': 50, 'leisure': 50, 'music': 50, 'news politics': 50, 'religion spirituality': 50, 'science': 50, 'society culture': 50, 'sports recreation': 50, 'stories': 50, 'tv film': 50, 'technology': 50, 'top podcasts': 50})\n",
      "670\n",
      "defaultdict(<class 'int'>, {'arts entertainment': 50, 'business technology': 50, 'comedy': 50, 'educational': 50, 'fiction': 50, 'games': 50, 'lifestyle health': 50, 'history': 50, 'kids family': 50, 'leisure': 50, 'music': 50, 'news politics': 50, 'religion spirituality': 50, 'science': 50, 'society culture': 50, 'sports recreation': 50, 'stories': 50, 'tv film': 50, 'technology': 50, 'top podcasts': 50})\n"
     ]
    },
    {
     "name": "stdout",
     "output_type": "stream",
     "text": [
      "670\n",
      "defaultdict(<class 'int'>, {'arts entertainment': 50, 'business technology': 50, 'comedy': 50, 'educational': 50, 'fiction': 50, 'games': 50, 'lifestyle health': 50, 'history': 50, 'kids family': 50, 'leisure': 50, 'music': 50, 'news politics': 50, 'religion spirituality': 50, 'science': 50, 'society culture': 50, 'sports recreation': 50, 'stories': 50, 'tv film': 50, 'technology': 50, 'top podcasts': 50})\n",
      "670\n",
      "defaultdict(<class 'int'>, {'arts entertainment': 50, 'business technology': 50, 'comedy': 50, 'educational': 50, 'fiction': 50, 'games': 50, 'lifestyle health': 50, 'history': 50, 'kids family': 50, 'leisure': 50, 'music': 50, 'news politics': 50, 'religion spirituality': 50, 'science': 50, 'society culture': 50, 'sports recreation': 50, 'stories': 50, 'tv film': 50, 'technology': 50, 'top podcasts': 50})\n",
      "670\n",
      "defaultdict(<class 'int'>, {'arts entertainment': 50, 'business technology': 50, 'comedy': 50, 'educational': 50, 'fiction': 50, 'games': 50, 'lifestyle health': 50, 'history': 50, 'kids family': 50, 'leisure': 50, 'music': 50, 'news politics': 50, 'religion spirituality': 50, 'science': 50, 'society culture': 50, 'sports recreation': 50, 'stories': 50, 'tv film': 50, 'technology': 50, 'top podcasts': 50})\n",
      "670\n",
      "defaultdict(<class 'int'>, {'arts entertainment': 50, 'business technology': 50, 'comedy': 50, 'educational': 50, 'fiction': 50, 'games': 50, 'lifestyle health': 50, 'history': 50, 'kids family': 50, 'leisure': 50, 'music': 50, 'news politics': 50, 'religion spirituality': 50, 'science': 50, 'society culture': 50, 'sports recreation': 50, 'stories': 50, 'tv film': 50, 'technology': 50, 'top podcasts': 50})\n",
      "670\n",
      "defaultdict(<class 'int'>, {'arts entertainment': 50, 'business technology': 50, 'comedy': 50, 'educational': 50, 'fiction': 50, 'games': 50, 'lifestyle health': 50, 'history': 50, 'kids family': 50, 'leisure': 50, 'music': 50, 'news politics': 50, 'religion spirituality': 50, 'science': 50, 'society culture': 50, 'sports recreation': 50, 'stories': 50, 'tv film': 50, 'technology': 50, 'top podcasts': 50})\n",
      "670\n",
      "defaultdict(<class 'int'>, {'arts entertainment': 50, 'business technology': 50, 'comedy': 50, 'educational': 50, 'fiction': 50, 'games': 50, 'lifestyle health': 50, 'history': 50, 'kids family': 50, 'leisure': 50, 'music': 50, 'news politics': 50, 'religion spirituality': 50, 'science': 50, 'society culture': 50, 'sports recreation': 50, 'stories': 50, 'tv film': 50, 'technology': 50, 'top podcasts': 50})\n",
      "670\n",
      "defaultdict(<class 'int'>, {'arts entertainment': 50, 'business technology': 50, 'comedy': 50, 'educational': 50, 'fiction': 50, 'games': 50, 'lifestyle health': 50, 'history': 50, 'kids family': 50, 'leisure': 50, 'music': 50, 'news politics': 50, 'religion spirituality': 50, 'science': 50, 'society culture': 50, 'sports recreation': 50, 'stories': 50, 'tv film': 50, 'technology': 50, 'top podcasts': 50})\n",
      "670\n",
      "defaultdict(<class 'int'>, {'arts entertainment': 50, 'business technology': 50, 'comedy': 50, 'educational': 50, 'fiction': 50, 'games': 50, 'lifestyle health': 50, 'history': 50, 'kids family': 50, 'leisure': 50, 'music': 50, 'news politics': 50, 'religion spirituality': 50, 'science': 50, 'society culture': 50, 'sports recreation': 50, 'stories': 50, 'tv film': 50, 'technology': 50, 'top podcasts': 50})\n",
      "670\n",
      "defaultdict(<class 'int'>, {'arts entertainment': 50, 'business technology': 50, 'comedy': 50, 'educational': 50, 'fiction': 50, 'games': 50, 'lifestyle health': 50, 'history': 50, 'kids family': 50, 'leisure': 50, 'music': 50, 'news politics': 50, 'religion spirituality': 50, 'science': 50, 'society culture': 50, 'sports recreation': 50, 'stories': 50, 'tv film': 50, 'technology': 50, 'top podcasts': 50})\n",
      "670\n",
      "defaultdict(<class 'int'>, {'arts entertainment': 50, 'business technology': 50, 'comedy': 50, 'educational': 50, 'fiction': 50, 'games': 50, 'lifestyle health': 50, 'history': 50, 'kids family': 50, 'leisure': 50, 'music': 50, 'news politics': 50, 'religion spirituality': 50, 'science': 50, 'society culture': 50, 'sports recreation': 50, 'stories': 50, 'tv film': 50, 'technology': 50, 'top podcasts': 50})\n",
      "670\n",
      "defaultdict(<class 'int'>, {'arts entertainment': 50, 'business technology': 50, 'comedy': 50, 'educational': 50, 'fiction': 50, 'games': 50, 'lifestyle health': 50, 'history': 50, 'kids family': 50, 'leisure': 50, 'music': 50, 'news politics': 50, 'religion spirituality': 50, 'science': 50, 'society culture': 50, 'sports recreation': 50, 'stories': 50, 'tv film': 50, 'technology': 50, 'top podcasts': 50})\n",
      "670\n",
      "defaultdict(<class 'int'>, {'arts entertainment': 50, 'business technology': 50, 'comedy': 50, 'educational': 50, 'fiction': 50, 'games': 50, 'lifestyle health': 50, 'history': 50, 'kids family': 50, 'leisure': 50, 'music': 50, 'news politics': 50, 'religion spirituality': 50, 'science': 50, 'society culture': 50, 'sports recreation': 50, 'stories': 50, 'tv film': 50, 'technology': 50, 'top podcasts': 50})\n",
      "670\n",
      "defaultdict(<class 'int'>, {'arts entertainment': 50, 'business technology': 50, 'comedy': 50, 'educational': 50, 'fiction': 50, 'games': 50, 'lifestyle health': 50, 'history': 50, 'kids family': 50, 'leisure': 50, 'music': 50, 'news politics': 50, 'religion spirituality': 50, 'science': 50, 'society culture': 50, 'sports recreation': 50, 'stories': 50, 'tv film': 50, 'technology': 50, 'top podcasts': 50})\n",
      "670\n",
      "defaultdict(<class 'int'>, {'arts entertainment': 50, 'business technology': 50, 'comedy': 50, 'educational': 50, 'fiction': 50, 'games': 50, 'lifestyle health': 50, 'history': 50, 'kids family': 50, 'leisure': 50, 'music': 50, 'news politics': 50, 'religion spirituality': 50, 'science': 50, 'society culture': 50, 'sports recreation': 50, 'stories': 50, 'tv film': 50, 'technology': 50, 'top podcasts': 50})\n",
      "670\n",
      "defaultdict(<class 'int'>, {'arts entertainment': 50, 'business technology': 50, 'comedy': 50, 'educational': 50, 'fiction': 50, 'games': 50, 'lifestyle health': 50, 'history': 50, 'kids family': 50, 'leisure': 50, 'music': 50, 'news politics': 50, 'religion spirituality': 50, 'science': 50, 'society culture': 50, 'sports recreation': 50, 'stories': 50, 'tv film': 50, 'technology': 50, 'top podcasts': 50})\n",
      "670\n",
      "defaultdict(<class 'int'>, {'arts entertainment': 50, 'business technology': 50, 'comedy': 50, 'educational': 50, 'fiction': 50, 'games': 50, 'lifestyle health': 50, 'history': 50, 'kids family': 50, 'leisure': 50, 'music': 50, 'news politics': 50, 'religion spirituality': 50, 'science': 50, 'society culture': 50, 'sports recreation': 50, 'stories': 50, 'tv film': 50, 'technology': 50, 'top podcasts': 50})\n",
      "670\n",
      "defaultdict(<class 'int'>, {'arts entertainment': 50, 'business technology': 50, 'comedy': 50, 'educational': 50, 'fiction': 50, 'games': 50, 'lifestyle health': 50, 'history': 50, 'kids family': 50, 'leisure': 50, 'music': 50, 'news politics': 50, 'religion spirituality': 50, 'science': 50, 'society culture': 50, 'sports recreation': 50, 'stories': 50, 'tv film': 50, 'technology': 50, 'top podcasts': 50})\n",
      "670\n",
      "defaultdict(<class 'int'>, {'arts entertainment': 50, 'business technology': 50, 'comedy': 50, 'educational': 50, 'fiction': 50, 'games': 50, 'lifestyle health': 50, 'history': 50, 'kids family': 50, 'leisure': 50, 'music': 50, 'news politics': 50, 'religion spirituality': 50, 'science': 50, 'society culture': 50, 'sports recreation': 50, 'stories': 50, 'tv film': 50, 'technology': 50, 'top podcasts': 50})\n",
      "670\n",
      "defaultdict(<class 'int'>, {'arts entertainment': 50, 'business technology': 50, 'comedy': 50, 'educational': 50, 'fiction': 50, 'games': 50, 'lifestyle health': 50, 'history': 50, 'kids family': 50, 'leisure': 50, 'music': 50, 'news politics': 50, 'religion spirituality': 50, 'science': 50, 'society culture': 50, 'sports recreation': 50, 'stories': 50, 'tv film': 50, 'technology': 50, 'top podcasts': 50})\n",
      "670\n",
      "defaultdict(<class 'int'>, {'arts entertainment': 50, 'business technology': 50, 'comedy': 50, 'educational': 50, 'fiction': 50, 'games': 50, 'lifestyle health': 50, 'history': 50, 'kids family': 50, 'leisure': 50, 'music': 50, 'news politics': 50, 'religion spirituality': 50, 'science': 50, 'society culture': 50, 'sports recreation': 50, 'stories': 50, 'tv film': 50, 'technology': 50, 'top podcasts': 50})\n"
     ]
    },
    {
     "name": "stdout",
     "output_type": "stream",
     "text": [
      "727\n",
      "defaultdict(<class 'int'>, {'arts entertainment': 50, 'business technology': 50, 'comedy': 50, 'educational': 50, 'fiction': 50, 'games': 50, 'lifestyle health': 50, 'history': 50, 'kids family': 50, 'leisure': 50, 'music': 50, 'news politics': 50, 'religion spirituality': 50, 'science': 50, 'society culture': 50, 'sports recreation': 50, 'stories': 50, 'tv film': 50, 'technology': 50, 'top podcasts': 50, 'trending': 50, 'true crime': 50})\n"
     ]
    }
   ],
   "source": [
    "## DON'T NEED TO RUN THIS CELL -- SHOW NAMES ALREADY LOADED ##\n",
    "\n",
    "## Need to load data incrementally due to request limit\n",
    "\n",
    "i = 0\n",
    "while i != -1:\n",
    "    i = add_to_show_names(range(i, num_urls))\n",
    "print(len(show_names))"
   ]
  },
  {
   "cell_type": "code",
   "execution_count": 208,
   "metadata": {},
   "outputs": [],
   "source": [
    "np.save('chartable_show_titles.npy', show_names) "
   ]
  },
  {
   "cell_type": "code",
   "execution_count": 229,
   "metadata": {},
   "outputs": [],
   "source": [
    "# GET ALL SHOWS\n",
    "\n",
    "shows = dict()\n",
    "show_names = np.load('chartable_show_titles.npy', allow_pickle='TRUE').item()\n",
    "\n",
    "for show_name in show_names:\n",
    "    try:\n",
    "        results = sp.search(q=show_name, type='show', market='US')\n",
    "        show = results['shows']['items'][0]\n",
    "        new_show = {\n",
    "            \"id\": show['id'],\n",
    "            \"name\": show['name'],\n",
    "            \"description\": show['description'],\n",
    "            \"languages\": show['languages']\n",
    "        }\n",
    "        shows[new_show['id']] = new_show\n",
    "    except:\n",
    "        continue\n",
    "\n",
    "np.save('shows.npy', shows) "
   ]
  },
  {
   "cell_type": "code",
   "execution_count": 231,
   "metadata": {},
   "outputs": [
    {
     "name": "stdout",
     "output_type": "stream",
     "text": [
      "719\n"
     ]
    }
   ],
   "source": [
    "print(len(shows))"
   ]
  },
  {
   "cell_type": "code",
   "execution_count": 232,
   "metadata": {},
   "outputs": [
    {
     "data": {
      "image/png": "[encoded data removed]",
      "text/plain": [
       "<Figure size 432x288 with 1 Axes>"
      ]
     },
     "metadata": {
      "needs_background": "light"
     },
     "output_type": "display_data"
    }
   ],
   "source": [
    "# GET ALL EPISODES\n",
    "\n",
    "episodes = dict()\n",
    "shows = np.load('shows.npy', allow_pickle='TRUE').item()\n",
    "\n",
    "for show_id in shows.keys():\n",
    "    try: \n",
    "        results = sp.show_episodes(show_id, limit=50, offset=0, market='US')\n",
    "        episode_items = results['items']\n",
    "        for episode in episode_items:\n",
    "            new_episode = {\n",
    "                \"id\": episode['id'],\n",
    "                \"show_id\": show_id,\n",
    "                \"name\": episode['name'],\n",
    "                \"description\": episode['description'],\n",
    "                \"release_date\": episode['release_date'],\n",
    "                \"duration_ms\": episode['duration_ms'],\n",
    "                \"languages\": episode['languages']\n",
    "            }\n",
    "            episodes[episode['id']] = new_episode\n",
    "    except:\n",
    "        continue\n",
    "\n",
    "np.save('episodes.npy', shows) "
   ]
  },
  {
   "cell_type": "code",
   "execution_count": 233,
   "metadata": {},
   "outputs": [
    {
     "name": "stdout",
     "output_type": "stream",
     "text": [
      "29240\n"
     ]
    }
   ],
   "source": [
    "print(len(episodes))"
   ]
  }
 ],
 "metadata": {
  "kernelspec": {
   "display_name": "cs4300-env",
   "language": "python",
   "name": "cs4300-env"
  },
  "language_info": {
   "codemirror_mode": {
    "name": "ipython",
    "version": 3
   },
   "file_extension": ".py",
   "mimetype": "text/x-python",
   "name": "python",
   "nbconvert_exporter": "python",
   "pygments_lexer": "ipython3",
   "version": "3.7.6"
  }
 },
 "nbformat": 4,
 "nbformat_minor": 4
}
