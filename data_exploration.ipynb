{
 "cells": [
  {
   "cell_type": "code",
   "execution_count": 1,
   "metadata": {},
   "outputs": [],
   "source": [
    "import spotipy\n",
    "import collections\n",
    "import numpy as np\n",
    "import requests\n",
    "from bs4 import BeautifulSoup\n",
    "from spotipy.oauth2 import SpotifyClientCredentials\n",
    "import pandas as pd\n",
    "import matplotlib.pyplot as plt"
   ]
  },
  {
   "cell_type": "code",
   "execution_count": 2,
   "metadata": {},
   "outputs": [],
   "source": [
    "sp = spotipy.Spotify(auth_manager=SpotifyClientCredentials(client_id=\"c0c231a63aff41459ff8db2c552830d2\",\n",
    "                                                           client_secret=\"ca92f9689fd745219c252148f81f4ac2\"))"
   ]
  },
  {
   "cell_type": "code",
   "execution_count": 3,
   "metadata": {},
   "outputs": [],
   "source": [
    "## Use Chartable & BeautifulSoup to get top (podcast) shows on Spotify\n",
    "\n",
    "genre_data_load = collections.defaultdict(int)\n",
    "\n",
    "chartable_url = 'https://chartable.com/charts/spotify/us'\n",
    "page = requests.get(chartable_url, headers = {'User-agent': 'Mozilla/5.0 (Macintosh; Intel Mac OS X 11_2_1) AppleWebKit/537.36 (KHTML, like Gecko) Chrome/89.0.4389.82 Safari/537.36'})\n",
    "page_soup = BeautifulSoup(page.content, 'html.parser')\n",
    "charts_by_genre = page_soup.find_all('div', class_='podcast mb1')\n",
    "chart_urls = [chart.find('a')['href'] for chart in charts_by_genre]\n",
    "chart_urls = chart_urls[:-3] + [chart_urls[-1]]\n",
    "num_urls = len(chart_urls)"
   ]
  },
  {
   "cell_type": "code",
   "execution_count": 4,
   "metadata": {},
   "outputs": [],
   "source": [
    "## For each genre, append all of its page urls\n",
    "\n",
    "next_page_urls = []\n",
    "\n",
    "def add_next_pages(chart_indices):\n",
    "    for i in chart_indices:\n",
    "        temp_chart_url = chart_urls[i]\n",
    "        while temp_chart_url:\n",
    "            chart_page = requests.get(temp_chart_url, headers = {'User-agent': 'Mozilla/5.0 (Macintosh; Intel Mac OS X 11_2_1) AppleWebKit/537.36 (KHTML, like Gecko) Chrome/89.0.4389.82 Safari/537.36'})\n",
    "            if (chart_page.status_code != 200):\n",
    "                return i\n",
    "            next_page = BeautifulSoup(chart_page.content, 'html.parser').find('span', class_='next')\n",
    "            if next_page:\n",
    "                temp_chart_url = 'http://chartable.com' + next_page.find('a')['href']\n",
    "                next_page_urls.append(temp_chart_url)\n",
    "            else:\n",
    "                temp_chart_url = None\n",
    "    return -1"
   ]
  },
  {
   "cell_type": "code",
   "execution_count": 55,
   "metadata": {},
   "outputs": [],
   "source": [
    "## DON'T NEED TO RUN THIS CELL -- CHART URLS ALREADY LOADED \n",
    "\n",
    "## Need to load data incrementally due to request limit\n",
    "\n",
    "i = 0\n",
    "while i != -1:\n",
    "    i = add_next_pages(range(i, num_urls))\n",
    "chart_urls += next_page_urls"
   ]
  },
  {
   "cell_type": "code",
   "execution_count": 5,
   "metadata": {},
   "outputs": [],
   "source": [
    "## Get show titles using chart urls from Chartable\n",
    "\n",
    "genres_to_shows = collections.defaultdict(list)\n",
    "\n",
    "def collect_shows(chart_indices):\n",
    "    for i in chart_indices:\n",
    "        chart_url = chart_urls[i]\n",
    "        chart_page = requests.get(chart_url, headers = {'User-agent': 'Mozilla/5.0 (Macintosh; Intel Mac OS X 11_2_1) AppleWebKit/537.36 (KHTML, like Gecko) Chrome/89.0.4389.82 Safari/537.36'})\n",
    "        if (chart_page.status_code != 200):\n",
    "            return i\n",
    "\n",
    "        show_soup = BeautifulSoup(chart_page.content, 'html.parser')\n",
    "        all_shows = show_soup.find_all('tr', class_='striped--near-white')\n",
    "\n",
    "        key = ' '.join(((chart_url.split('/')[-1]).split('-'))[4:])\n",
    "        genre_data_load[key] = len(all_shows)\n",
    "\n",
    "        for show in all_shows:\n",
    "            show_name = show.find('a', class_='link blue')\n",
    "            show_rank = show.find('div', class_='b header-font f2 tc')\n",
    "            if not show_name:\n",
    "                show_name = show.find('div', class_='title f4')\n",
    "            genre = key.split('?')[0]\n",
    "            genres_to_shows[genre].append({\"show_name\": show_name.text, \"rank\": show_rank.text})\n",
    "    return -1"
   ]
  },
  {
   "cell_type": "code",
   "execution_count": 57,
   "metadata": {},
   "outputs": [
    {
     "name": "stdout",
     "output_type": "stream",
     "text": [
      "20\n"
     ]
    }
   ],
   "source": [
    "## DON'T NEED TO RUN THIS CELL -- SHOW NAMES ALREADY LOADED ##\n",
    "\n",
    "## Need to load data incrementally due to request limit\n",
    "\n",
    "i = 0\n",
    "while i != -1:\n",
    "    i = collect_shows(range(i, num_urls))\n",
    "print(len(genres_to_shows))"
   ]
  },
  {
   "cell_type": "code",
   "execution_count": 58,
   "metadata": {},
   "outputs": [],
   "source": [
    "np.save('chartable_genres_to_shows.npy', genres_to_shows) "
   ]
  },
  {
   "cell_type": "code",
   "execution_count": 6,
   "metadata": {},
   "outputs": [],
   "source": [
    "# GET ALL SHOWS\n",
    "\n",
    "shows = dict()\n",
    "genres_to_shows = np.load('chartable_genres_to_shows.npy', allow_pickle='TRUE').item()\n",
    "\n",
    "for genre, show_data in genres_to_shows.items():\n",
    "    for show in show_data:\n",
    "        try: \n",
    "            show_name, rank = show['show_name'], show['rank']\n",
    "            results = sp.search(q=show_name, type='show', market='US')\n",
    "            show = results['shows']['items'][0]\n",
    "            new_show = {\n",
    "                \"id\": show['id'],\n",
    "                \"name\": show['name'],\n",
    "                \"description\": show['description'],\n",
    "                \"genre\": genre,\n",
    "                \"languages\": show['languages'],\n",
    "                \"publisher\": show['publisher'],\n",
    "                \"show_rank\": rank\n",
    "            }\n",
    "            shows[new_show['id']] = new_show\n",
    "        except:\n",
    "            continue\n",
    "\n",
    "np.save('shows.npy', shows) "
   ]
  },
  {
   "cell_type": "code",
   "execution_count": 4,
   "metadata": {},
   "outputs": [],
   "source": [
    "# GET ALL EPISODES\n",
    "\n",
    "episodes = dict()\n",
    "shows = np.load('shows.npy', allow_pickle='TRUE').item()\n",
    "\n",
    "for show_id in shows.keys():\n",
    "    try: \n",
    "        results = sp.show_episodes(show_id, limit=50, offset=0, market='US')\n",
    "        episode_items = results['items']\n",
    "        for episode in episode_items:\n",
    "            new_episode = {\n",
    "                \"id\": episode['id'],\n",
    "                \"show_id\": show_id,\n",
    "                \"name\": episode['name'],\n",
    "                \"description\": episode['description'],\n",
    "                \"duration_ms\": episode['duration_ms'],\n",
    "                \"genre\": shows[show_id]['genre'],\n",
    "                \"languages\": episode['languages'],\n",
    "                \"publisher\": shows[show_id]['publisher'],\n",
    "                \"release_date\": episode['release_date'],\n",
    "                \"release_date_precision\": episode['release_date_precision'],\n",
    "                \"show_rank\": shows[show_id]['show_rank']\n",
    "            }\n",
    "            episodes[episode['id']] = new_episode\n",
    "    except:\n",
    "        continue\n",
    "\n",
    "np.save('episodes.npy', episodes) "
   ]
  },
  {
   "cell_type": "code",
   "execution_count": 6,
   "metadata": {},
   "outputs": [
    {
     "name": "stdout",
     "output_type": "stream",
     "text": [
      "679\n",
      "28761\n"
     ]
    }
   ],
   "source": [
    "print(len(shows))\n",
    "print(len(episodes))"
   ]
  },
  {
   "cell_type": "code",
   "execution_count": 42,
   "metadata": {},
   "outputs": [],
   "source": [
    "# shows = np.load('shows.npy',allow_pickle='TRUE').item()\n",
    "# episodes = np.load('episodes.npy',allow_pickle='TRUE').item()"
   ]
  },
  {
   "cell_type": "markdown",
   "metadata": {},
   "source": [
    "#### Shows Table"
   ]
  },
  {
   "cell_type": "code",
   "execution_count": 58,
   "metadata": {
    "scrolled": true
   },
   "outputs": [
    {
     "name": "stdout",
     "output_type": "stream",
     "text": [
      "number of shows: 719\n"
     ]
    },
    {
     "data": {
      "text/html": [
       "<div>\n",
       "<style scoped>\n",
       "    .dataframe tbody tr th:only-of-type {\n",
       "        vertical-align: middle;\n",
       "    }\n",
       "\n",
       "    .dataframe tbody tr th {\n",
       "        vertical-align: top;\n",
       "    }\n",
       "\n",
       "    .dataframe thead th {\n",
       "        text-align: right;\n",
       "    }\n",
       "</style>\n",
       "<table border=\"1\" class=\"dataframe\">\n",
       "  <thead>\n",
       "    <tr style=\"text-align: right;\">\n",
       "      <th></th>\n",
       "      <th>id</th>\n",
       "      <th>name</th>\n",
       "      <th>description</th>\n",
       "      <th>languages</th>\n",
       "    </tr>\n",
       "  </thead>\n",
       "  <tbody>\n",
       "    <tr>\n",
       "      <th>0</th>\n",
       "      <td>2vNdjiBQa7Gy4SmLyhULlR</td>\n",
       "      <td>Entre Hermanas con Alejandra Espinoza y Damari...</td>\n",
       "      <td>Alejandra Espinoza, la famosa reina de ...</td>\n",
       "      <td>[es]</td>\n",
       "    </tr>\n",
       "    <tr>\n",
       "      <th>1</th>\n",
       "      <td>4KDCRj2TjqVXzR5iy1Izda</td>\n",
       "      <td>The Bitch Bible</td>\n",
       "      <td>A podcast that dares to say what many are thin...</td>\n",
       "      <td>[en]</td>\n",
       "    </tr>\n",
       "    <tr>\n",
       "      <th>2</th>\n",
       "      <td>0mWUJuONiilW5JSBBFZ0s7</td>\n",
       "      <td>The What Bitcoin Did Podcast</td>\n",
       "      <td>Bitcoin &amp; Crypto Trading, Strategy, Business a...</td>\n",
       "      <td>[en]</td>\n",
       "    </tr>\n",
       "    <tr>\n",
       "      <th>3</th>\n",
       "      <td>5okWIPi7GOb4iaZQlVthi5</td>\n",
       "      <td>K-Pop Daebak w/ Eric Nam</td>\n",
       "      <td>It's hard to keep up with all the new K-pop re...</td>\n",
       "      <td>[en]</td>\n",
       "    </tr>\n",
       "    <tr>\n",
       "      <th>4</th>\n",
       "      <td>1g056e2x0Y9AwW6CQF3qA5</td>\n",
       "      <td>Mythology</td>\n",
       "      <td>Myths endure for a reason. This episodic audio...</td>\n",
       "      <td>[en]</td>\n",
       "    </tr>\n",
       "  </tbody>\n",
       "</table>\n",
       "</div>"
      ],
      "text/plain": [
       "                       id                                               name  \\\n",
       "0  2vNdjiBQa7Gy4SmLyhULlR  Entre Hermanas con Alejandra Espinoza y Damari...   \n",
       "1  4KDCRj2TjqVXzR5iy1Izda                                    The Bitch Bible   \n",
       "2  0mWUJuONiilW5JSBBFZ0s7                       The What Bitcoin Did Podcast   \n",
       "3  5okWIPi7GOb4iaZQlVthi5                           K-Pop Daebak w/ Eric Nam   \n",
       "4  1g056e2x0Y9AwW6CQF3qA5                                          Mythology   \n",
       "\n",
       "                                         description languages  \n",
       "0         Alejandra Espinoza, la famosa reina de ...      [es]  \n",
       "1  A podcast that dares to say what many are thin...      [en]  \n",
       "2  Bitcoin & Crypto Trading, Strategy, Business a...      [en]  \n",
       "3  It's hard to keep up with all the new K-pop re...      [en]  \n",
       "4  Myths endure for a reason. This episodic audio...      [en]  "
      ]
     },
     "execution_count": 58,
     "metadata": {},
     "output_type": "execute_result"
    }
   ],
   "source": [
    "shows_df = pd.DataFrame(list(shows.values()))\n",
    "print(\"number of shows: {}\".format(shows_df.shape[0]))\n",
    "shows_df.head()"
   ]
  },
  {
   "cell_type": "code",
   "execution_count": 59,
   "metadata": {},
   "outputs": [
    {
     "name": "stdout",
     "output_type": "stream",
     "text": [
      "number of episodes: 29240\n"
     ]
    },
    {
     "data": {
      "text/html": [
       "<div>\n",
       "<style scoped>\n",
       "    .dataframe tbody tr th:only-of-type {\n",
       "        vertical-align: middle;\n",
       "    }\n",
       "\n",
       "    .dataframe tbody tr th {\n",
       "        vertical-align: top;\n",
       "    }\n",
       "\n",
       "    .dataframe thead th {\n",
       "        text-align: right;\n",
       "    }\n",
       "</style>\n",
       "<table border=\"1\" class=\"dataframe\">\n",
       "  <thead>\n",
       "    <tr style=\"text-align: right;\">\n",
       "      <th></th>\n",
       "      <th>id</th>\n",
       "      <th>show_id</th>\n",
       "      <th>name</th>\n",
       "      <th>description</th>\n",
       "      <th>release_date</th>\n",
       "      <th>duration_ms</th>\n",
       "      <th>languages</th>\n",
       "    </tr>\n",
       "  </thead>\n",
       "  <tbody>\n",
       "    <tr>\n",
       "      <th>0</th>\n",
       "      <td>4u7SBsPFOPFwwCohVe8rEA</td>\n",
       "      <td>2vNdjiBQa7Gy4SmLyhULlR</td>\n",
       "      <td>Los errores que destruyen una relación</td>\n",
       "      <td>Todos queremos una relación de pareja...</td>\n",
       "      <td>2021-04-08</td>\n",
       "      <td>2027860</td>\n",
       "      <td>[es]</td>\n",
       "    </tr>\n",
       "    <tr>\n",
       "      <th>1</th>\n",
       "      <td>7GvPOtrdromUiTKQWaTgUX</td>\n",
       "      <td>2vNdjiBQa7Gy4SmLyhULlR</td>\n",
       "      <td>Por qué nos cuesta tanto hablar de sexo</td>\n",
       "      <td>Una conversación \"Entre Hermanas\" sob...</td>\n",
       "      <td>2021-04-01</td>\n",
       "      <td>1812349</td>\n",
       "      <td>[es]</td>\n",
       "    </tr>\n",
       "    <tr>\n",
       "      <th>2</th>\n",
       "      <td>2k2yZxofWpcWPUcCWAlRyf</td>\n",
       "      <td>2vNdjiBQa7Gy4SmLyhULlR</td>\n",
       "      <td>Te fueron infiel...¿y ahora qué?</td>\n",
       "      <td>Una conversación \"Entre Hermanas\" con...</td>\n",
       "      <td>2021-03-25</td>\n",
       "      <td>2025221</td>\n",
       "      <td>[es]</td>\n",
       "    </tr>\n",
       "    <tr>\n",
       "      <th>3</th>\n",
       "      <td>2WlMmi51TVK1zVsBDZkbAL</td>\n",
       "      <td>2vNdjiBQa7Gy4SmLyhULlR</td>\n",
       "      <td>Los secretos de Ale y Damaris para tener buena...</td>\n",
       "      <td>Toma nota porque Alejandra y Damaris ...</td>\n",
       "      <td>2021-03-18</td>\n",
       "      <td>1985985</td>\n",
       "      <td>[es]</td>\n",
       "    </tr>\n",
       "    <tr>\n",
       "      <th>4</th>\n",
       "      <td>2F1CclIr6N6WATYE8u1LT4</td>\n",
       "      <td>2vNdjiBQa7Gy4SmLyhULlR</td>\n",
       "      <td>Cómo lograr todo lo que te propones</td>\n",
       "      <td>Damaris enfrentó a Alejandra cuando l...</td>\n",
       "      <td>2021-03-11</td>\n",
       "      <td>2485864</td>\n",
       "      <td>[es]</td>\n",
       "    </tr>\n",
       "  </tbody>\n",
       "</table>\n",
       "</div>"
      ],
      "text/plain": [
       "                       id                 show_id  \\\n",
       "0  4u7SBsPFOPFwwCohVe8rEA  2vNdjiBQa7Gy4SmLyhULlR   \n",
       "1  7GvPOtrdromUiTKQWaTgUX  2vNdjiBQa7Gy4SmLyhULlR   \n",
       "2  2k2yZxofWpcWPUcCWAlRyf  2vNdjiBQa7Gy4SmLyhULlR   \n",
       "3  2WlMmi51TVK1zVsBDZkbAL  2vNdjiBQa7Gy4SmLyhULlR   \n",
       "4  2F1CclIr6N6WATYE8u1LT4  2vNdjiBQa7Gy4SmLyhULlR   \n",
       "\n",
       "                                                name  \\\n",
       "0             Los errores que destruyen una relación   \n",
       "1            Por qué nos cuesta tanto hablar de sexo   \n",
       "2                   Te fueron infiel...¿y ahora qué?   \n",
       "3  Los secretos de Ale y Damaris para tener buena...   \n",
       "4               Cómo lograr todo lo que te propones    \n",
       "\n",
       "                                         description release_date  \\\n",
       "0           Todos queremos una relación de pareja...   2021-04-08   \n",
       "1           Una conversación \"Entre Hermanas\" sob...   2021-04-01   \n",
       "2           Una conversación \"Entre Hermanas\" con...   2021-03-25   \n",
       "3           Toma nota porque Alejandra y Damaris ...   2021-03-18   \n",
       "4           Damaris enfrentó a Alejandra cuando l...   2021-03-11   \n",
       "\n",
       "   duration_ms languages  \n",
       "0      2027860      [es]  \n",
       "1      1812349      [es]  \n",
       "2      2025221      [es]  \n",
       "3      1985985      [es]  \n",
       "4      2485864      [es]  "
      ]
     },
     "execution_count": 59,
     "metadata": {},
     "output_type": "execute_result"
    }
   ],
   "source": [
    "episodes_df = pd.DataFrame(list(episodes.values()))\n",
    "print(\"number of episodes: {}\".format(episodes_df.shape[0]))\n",
    "episodes_df.head()"
   ]
  },
  {
   "cell_type": "markdown",
   "metadata": {},
   "source": [
    "#### Length of Show and Episode Description Analysis\n"
   ]
  },
  {
   "cell_type": "code",
   "execution_count": 45,
   "metadata": {},
   "outputs": [
    {
     "name": "stdout",
     "output_type": "stream",
     "text": [
      "average length of show description: 363.34075104311546 words\n",
      "average length of episode description: 752.300512995896 words\n"
     ]
    }
   ],
   "source": [
    "print(\"average length of show description: {} words\".format(np.mean(shows_df['description'].apply(lambda x: len(x)))))\n",
    "print(\"average length of episode description: {} words\".format(np.mean(episodes_df['description'].apply(lambda x: len(x)))))"
   ]
  },
  {
   "cell_type": "code",
   "execution_count": 46,
   "metadata": {
    "scrolled": false
   },
   "outputs": [
    {
     "data": {
      "image/png": "[encoded data removed]",
      "text/plain": [
       "<Figure size 432x288 with 1 Axes>"
      ]
     },
     "metadata": {
      "needs_background": "light"
     },
     "output_type": "display_data"
    }
   ],
   "source": [
    "plt.hist(shows_df['description'].apply(lambda x: len(x)), range=(0,1500), bins=15)\n",
    "plt.xlabel(\"show description length\")\n",
    "plt.ylabel(\"frequency\")\n",
    "plt.title('Show Description Length Distribution')\n",
    "plt.show()"
   ]
  },
  {
   "cell_type": "code",
   "execution_count": 47,
   "metadata": {
    "scrolled": false
   },
   "outputs": [
    {
     "data": {
      "image/png": "[encoded data removed]",
      "text/plain": [
       "<Figure size 432x288 with 1 Axes>"
      ]
     },
     "metadata": {
      "needs_background": "light"
     },
     "output_type": "display_data"
    }
   ],
   "source": [
    "plt.hist(episodes_df['description'].apply(lambda x: len(x)),range=(0,4000),bins=20)\n",
    "plt.xlabel(\"episodes description length\")\n",
    "plt.ylabel(\"frequency\")\n",
    "plt.title('Episodes Description Length Distribution')\n",
    "plt.show()"
   ]
  },
  {
   "cell_type": "markdown",
   "metadata": {},
   "source": [
    "#### Episode and Show Description Character Usage Analysis "
   ]
  },
  {
   "cell_type": "code",
   "execution_count": 48,
   "metadata": {
    "scrolled": true
   },
   "outputs": [],
   "source": [
    "import re\n",
    "\n",
    "show_description_tokens = []\n",
    "for description in shows_df['description']:\n",
    "    show_description_tokens+=(re.sub(r'[^a-zA-Z ]+', '', description).split())\n",
    "show_description_tf = collections.Counter(show_description_tokens)\n",
    "\n",
    "episode_description_tokens = []\n",
    "for description in episodes_df['description']:\n",
    "    episode_description_tokens+=(re.sub(r'[^a-zA-Z ]+', '', description).split())\n",
    "episode_description_tf = collections.Counter(episode_description_tokens)"
   ]
  },
  {
   "cell_type": "code",
   "execution_count": 49,
   "metadata": {
    "scrolled": true
   },
   "outputs": [
    {
     "name": "stdout",
     "output_type": "stream",
     "text": [
      "Top 10 most frequent words and their term frequencies in show description: \n",
      "\n",
      "'and', term frequency: 1872\n",
      "'the', term frequency: 1691\n",
      "'of', term frequency: 972\n",
      "'to', term frequency: 945\n",
      "'a', term frequency: 792\n",
      "'in', term frequency: 491\n",
      "'you', term frequency: 450\n",
      "'is', term frequency: 406\n",
      "'with', term frequency: 361\n",
      "'for', term frequency: 326\n",
      "\n",
      "\n",
      "Top 10 least frequent words and their term frequencies in show description: \n",
      "\n",
      "'Alejandra', term frequency: 1\n",
      "'Espinoza', term frequency: 1\n",
      "'famosa', term frequency: 1\n",
      "'hermana', term frequency: 1\n",
      "'Damaris', term frequency: 1\n",
      "'Jimenez', term frequency: 1\n",
      "'quien', term frequency: 1\n",
      "'especializada', term frequency: 1\n",
      "'desarrollo', term frequency: 1\n",
      "'mujeres', term frequency: 1\n"
     ]
    }
   ],
   "source": [
    "print(\"Top 10 most frequent words and their term frequencies in show description: \\n\")\n",
    "for word, score in sorted(show_description_tf.items(),key = lambda x: x[1],reverse=True)[:10]:\n",
    "    print(\"'{}', term frequency: {}\".format(word,score))\n",
    "\n",
    "print(\"\\n\")\n",
    "print(\"Top 10 least frequent words and their term frequencies in show description: \\n\")\n",
    "for word, score in sorted(show_description_tf.items(),key = lambda x: x[1])[:10]:\n",
    "    print(\"'{}', term frequency: {}\".format(word,score))\n",
    "\n",
    "\n",
    "\n"
   ]
  },
  {
   "cell_type": "code",
   "execution_count": 50,
   "metadata": {
    "scrolled": true
   },
   "outputs": [
    {
     "name": "stdout",
     "output_type": "stream",
     "text": [
      "\n",
      "\n",
      "Top 10 most frequent words and their term frequencies in episode description: \n",
      "\n",
      "'the', term frequency: 115868\n",
      "'and', term frequency: 99356\n",
      "'to', term frequency: 81093\n",
      "'of', term frequency: 66928\n",
      "'a', term frequency: 58276\n",
      "'in', term frequency: 36469\n",
      "'for', term frequency: 34049\n",
      "'on', term frequency: 29830\n",
      "'is', term frequency: 27957\n",
      "'you', term frequency: 25104\n",
      "\n",
      "\n",
      "Top 10 least frequent words and their term frequencies in episode description: \n",
      "\n",
      "'maravillosa', term frequency: 1\n",
      "'caros', term frequency: 1\n",
      "'honesta', term frequency: 1\n",
      "'tranquilidad', term frequency: 1\n",
      "'claros', term frequency: 1\n",
      "'Toma', term frequency: 1\n",
      "'saludables', term frequency: 1\n",
      "'sorprender', term frequency: 1\n",
      "'gimnasio', term frequency: 1\n",
      "'propuso', term frequency: 1\n"
     ]
    }
   ],
   "source": [
    "print(\"\\n\")\n",
    "print(\"Top 10 most frequent words and their term frequencies in episode description: \\n\")\n",
    "for word, score in sorted(episode_description_tf.items(),key = lambda x: x[1],reverse=True)[:10]:\n",
    "    print(\"'{}', term frequency: {}\".format(word,score)) \n",
    "\n",
    "print(\"\\n\")\n",
    "print(\"Top 10 least frequent words and their term frequencies in episode description: \\n\")\n",
    "for word, score in sorted(episode_description_tf.items(),key = lambda x: x[1])[:10]:\n",
    "    print(\"'{}', term frequency: {}\".format(word,score)) "
   ]
  },
  {
   "cell_type": "markdown",
   "metadata": {},
   "source": [
    "#### Episode Lenght Analysis"
   ]
  },
  {
   "cell_type": "code",
   "execution_count": 51,
   "metadata": {},
   "outputs": [
    {
     "name": "stdout",
     "output_type": "stream",
     "text": [
      "Mean duration of episodes: 3230245.66 milliseconds\n",
      "Mean duration of episodes: 3230.25 seconds\n",
      "Mean duration of episodes: 53.84 minutes\n"
     ]
    }
   ],
   "source": [
    "print(\"Mean duration of episodes: {:.2f} milliseconds\".format(episodes_df['duration_ms'].mean()))\n",
    "print(\"Mean duration of episodes: {:.2f} seconds\".format(episodes_df['duration_ms'].mean()/1000))\n",
    "print(\"Mean duration of episodes: {:.2f} minutes\".format(episodes_df['duration_ms'].mean()/60000))"
   ]
  },
  {
   "cell_type": "code",
   "execution_count": 52,
   "metadata": {},
   "outputs": [
    {
     "data": {
      "image/png": "[encoded data removed]",
      "text/plain": [
       "<Figure size 432x288 with 1 Axes>"
      ]
     },
     "metadata": {
      "needs_background": "light"
     },
     "output_type": "display_data"
    }
   ],
   "source": [
    "plt.hist(episodes_df['duration_ms']/60000,range=(0,200),bins=20)\n",
    "plt.xlabel(\"episode duration (Minutes)\")\n",
    "plt.ylabel(\"frequency\")\n",
    "plt.title(\"Episode Duration Distribution\")\n",
    "plt.show()"
   ]
  },
  {
   "cell_type": "markdown",
   "metadata": {},
   "source": [
    "#### Show Language Distribution "
   ]
  },
  {
   "cell_type": "code",
   "execution_count": 53,
   "metadata": {},
   "outputs": [
    {
     "name": "stdout",
     "output_type": "stream",
     "text": [
      "Most used languages in the shows\n"
     ]
    },
    {
     "data": {
      "text/plain": [
       "en       630\n",
       "en-US     70\n",
       "es        14\n",
       "aa         3\n",
       "en-GB      1\n",
       "ja         1\n",
       "Name: languages, dtype: int64"
      ]
     },
     "metadata": {},
     "output_type": "display_data"
    }
   ],
   "source": [
    "print(\"Most used languages in the shows\")\n",
    "display(shows_df['languages'].apply(lambda x: x[0]).value_counts())"
   ]
  },
  {
   "cell_type": "markdown",
   "metadata": {},
   "source": [
    "#### Shows and Episodes Analysis "
   ]
  },
  {
   "cell_type": "code",
   "execution_count": 54,
   "metadata": {},
   "outputs": [
    {
     "name": "stdout",
     "output_type": "stream",
     "text": [
      "10 shows with the most episodes: \n",
      "\n",
      "1)  The No Good Podcast \n",
      "2) Snoozecast\n",
      "3) Something Was Wrong\n",
      "4) Something to Wrestle with Bruce Prichard\n",
      "5) Song Exploder\n",
      "6) Southern Fried True Crime\n",
      "7) Spiritual Shit \n",
      "8) Spittin Chiclets\n",
      "9) Spooky Boo's Creepypasta, True Scary Stories, Paranormal, and True Crime Podcast\n",
      "10) Star Wars Theory\n"
     ]
    }
   ],
   "source": [
    "print(\"10 shows with the most episodes: \\n\")\n",
    "show_episode_df = episodes_df.merge(shows_df, left_on=\"show_id\",right_on=\"id\")\n",
    "for i,show in enumerate(show_episode_df.groupby('name_y').count()['id_x'].sort_values(ascending=False)[0:10].index):\n",
    "    print(\"{}) {}\".format(i+1, show)) "
   ]
  }
 ],
 "metadata": {
  "kernelspec": {
   "display_name": "venv",
   "language": "python",
   "name": "venv"
  },
  "language_info": {
   "codemirror_mode": {
    "name": "ipython",
    "version": 3
   },
   "file_extension": ".py",
   "mimetype": "text/x-python",
   "name": "python",
   "nbconvert_exporter": "python",
   "pygments_lexer": "ipython3",
   "version": "3.7.6"
  }
 },
 "nbformat": 4,
 "nbformat_minor": 4
}
