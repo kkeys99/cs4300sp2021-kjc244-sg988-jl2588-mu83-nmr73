{
 "cells": [
  {
   "cell_type": "code",
   "execution_count": 17,
   "metadata": {},
   "outputs": [],
   "source": [
    "import spotipy\n",
    "import numpy as np\n",
    "from spotipy.oauth2 import SpotifyClientCredentials\n",
    "import pandas as pd\n",
    "import matplotlib.pyplot as plt\n",
    "import collections"
   ]
  },
  {
   "cell_type": "code",
   "execution_count": 38,
   "metadata": {},
   "outputs": [],
   "source": [
    "sp = spotipy.Spotify(auth_manager=SpotifyClientCredentials(client_id=\"c0c231a63aff41459ff8db2c552830d2\",\n",
    "                                                           client_secret=\"ca92f9689fd745219c252148f81f4ac2\"))"
   ]
  },
  {
   "cell_type": "code",
   "execution_count": 39,
   "metadata": {},
   "outputs": [],
   "source": [
    "# GET ALL SHOWS\n",
    "\n",
    "shows = dict()\n",
    "vowels = ['a', 'e', 'i', 'o', 'u']\n",
    "\n",
    "for vowel in vowels:\n",
    "    offset = 0\n",
    "    current_iteration = 0\n",
    "    remaining_iterations = 1\n",
    "    while ((offset <= 950) and (current_iteration <= remaining_iterations)):\n",
    "        try: \n",
    "            results = sp.search(q=vowel, type='show', market='US', limit=50, offset=offset)\n",
    "        except:\n",
    "            continue\n",
    "\n",
    "        shows_response = results['shows']['items']\n",
    "        shows_remaining = results['shows']['total']\n",
    "\n",
    "        for show in shows_response:\n",
    "            new_show = {\n",
    "                \"id\": show['id'],\n",
    "                \"name\": show['name'],\n",
    "                \"description\": show['description'],\n",
    "                \"languages\": show['languages']\n",
    "            }\n",
    "            shows[new_show['id']] = new_show\n",
    "\n",
    "        remaining_iterations = shows_remaining // 50\n",
    "        current_iteration += 1\n",
    "        offset += 50\n",
    "\n",
    "np.save('shows.npy', shows) "
   ]
  },
  {
   "cell_type": "code",
   "execution_count": 40,
   "metadata": {
    "scrolled": true
   },
   "outputs": [
    {
     "name": "stdout",
     "output_type": "stream",
     "text": [
      "4749\n"
     ]
    }
   ],
   "source": [
    "print(len(shows))"
   ]
  },
  {
   "cell_type": "code",
   "execution_count": 41,
   "metadata": {},
   "outputs": [],
   "source": [
    "# GET ALL EPISODES\n",
    "\n",
    "episodes = dict()\n",
    "\n",
    "for show_id in shows.keys():\n",
    "    try: \n",
    "        results = sp.show_episodes(show_id, limit=50, offset=0, market='US')\n",
    "    except:\n",
    "        continue\n",
    "\n",
    "    episode_items = results['items']\n",
    "    for episode in episode_items:\n",
    "        \n",
    "        new_episode = {\n",
    "            \"id\": episode['id'],\n",
    "            \"show_id\": show_id,\n",
    "            \"name\": episode['name'],\n",
    "            \"description\": episode['description'],\n",
    "            \"release_date\": episode['release_date'],\n",
    "            \"duration_ms\": episode['duration_ms'],\n",
    "            \"languages\": episode['languages']\n",
    "        }\n",
    "        episodes[episode['id']] = new_episode\n",
    "\n",
    "np.save('episodes.npy', episodes) "
   ]
  },
  {
   "cell_type": "code",
   "execution_count": 42,
   "metadata": {},
   "outputs": [
    {
     "name": "stdout",
     "output_type": "stream",
     "text": [
      "88309\n"
     ]
    }
   ],
   "source": [
    "print(len(episodes))"
   ]
  },
  {
   "cell_type": "code",
   "execution_count": 3,
   "metadata": {
    "scrolled": true
   },
   "outputs": [],
   "source": [
    "shows = np.load('shows.npy',allow_pickle='TRUE').item()\n",
    "episodes = np.load('episodes.npy',allow_pickle='TRUE').item()"
   ]
  },
  {
   "cell_type": "code",
   "execution_count": 4,
   "metadata": {},
   "outputs": [
    {
     "data": {
      "text/html": [
       "<div>\n",
       "<style scoped>\n",
       "    .dataframe tbody tr th:only-of-type {\n",
       "        vertical-align: middle;\n",
       "    }\n",
       "\n",
       "    .dataframe tbody tr th {\n",
       "        vertical-align: top;\n",
       "    }\n",
       "\n",
       "    .dataframe thead th {\n",
       "        text-align: right;\n",
       "    }\n",
       "</style>\n",
       "<table border=\"1\" class=\"dataframe\">\n",
       "  <thead>\n",
       "    <tr style=\"text-align: right;\">\n",
       "      <th></th>\n",
       "      <th>id</th>\n",
       "      <th>name</th>\n",
       "      <th>description</th>\n",
       "      <th>languages</th>\n",
       "    </tr>\n",
       "  </thead>\n",
       "  <tbody>\n",
       "    <tr>\n",
       "      <th>0</th>\n",
       "      <td>6xwxHFRIHhkLbFv0BTIFXI</td>\n",
       "      <td>Anto Aroian Aka AHeat_8</td>\n",
       "      <td>If u have something to say contect me on insta</td>\n",
       "      <td>[en-US]</td>\n",
       "    </tr>\n",
       "    <tr>\n",
       "      <th>1</th>\n",
       "      <td>2CNXM2szUcsgFMPpDVhu4i</td>\n",
       "      <td>Annabel Harz: Author and Artist</td>\n",
       "      <td>Promoting personal empowerment through artisti...</td>\n",
       "      <td>[en]</td>\n",
       "    </tr>\n",
       "    <tr>\n",
       "      <th>2</th>\n",
       "      <td>0416Yv29u3KGUJGzyZUbS3</td>\n",
       "      <td>Anything at anytime</td>\n",
       "      <td>My podcast can be of anything.like now I was f...</td>\n",
       "      <td>[ur]</td>\n",
       "    </tr>\n",
       "    <tr>\n",
       "      <th>3</th>\n",
       "      <td>2K8imKKaPNQMZciOF21urm</td>\n",
       "      <td>Apliques A&amp;A</td>\n",
       "      <td>Mi empresa dedicada a la confección de aplique...</td>\n",
       "      <td>[es]</td>\n",
       "    </tr>\n",
       "    <tr>\n",
       "      <th>4</th>\n",
       "      <td>2iV8RSyfRwV0VI4wwq54Gu</td>\n",
       "      <td>Art and architecture</td>\n",
       "      <td></td>\n",
       "      <td>[en]</td>\n",
       "    </tr>\n",
       "  </tbody>\n",
       "</table>\n",
       "</div>"
      ],
      "text/plain": [
       "                       id                             name  \\\n",
       "0  6xwxHFRIHhkLbFv0BTIFXI          Anto Aroian Aka AHeat_8   \n",
       "1  2CNXM2szUcsgFMPpDVhu4i  Annabel Harz: Author and Artist   \n",
       "2  0416Yv29u3KGUJGzyZUbS3             Anything at anytime    \n",
       "3  2K8imKKaPNQMZciOF21urm                     Apliques A&A   \n",
       "4  2iV8RSyfRwV0VI4wwq54Gu            Art and architecture    \n",
       "\n",
       "                                         description languages  \n",
       "0     If u have something to say contect me on insta   [en-US]  \n",
       "1  Promoting personal empowerment through artisti...      [en]  \n",
       "2  My podcast can be of anything.like now I was f...      [ur]  \n",
       "3  Mi empresa dedicada a la confección de aplique...      [es]  \n",
       "4                                                         [en]  "
      ]
     },
     "execution_count": 4,
     "metadata": {},
     "output_type": "execute_result"
    }
   ],
   "source": [
    "shows_df = pd.DataFrame(list(shows.values()))\n",
    "shows_df.head()"
   ]
  },
  {
   "cell_type": "code",
   "execution_count": 5,
   "metadata": {},
   "outputs": [
    {
     "data": {
      "text/html": [
       "<div>\n",
       "<style scoped>\n",
       "    .dataframe tbody tr th:only-of-type {\n",
       "        vertical-align: middle;\n",
       "    }\n",
       "\n",
       "    .dataframe tbody tr th {\n",
       "        vertical-align: top;\n",
       "    }\n",
       "\n",
       "    .dataframe thead th {\n",
       "        text-align: right;\n",
       "    }\n",
       "</style>\n",
       "<table border=\"1\" class=\"dataframe\">\n",
       "  <thead>\n",
       "    <tr style=\"text-align: right;\">\n",
       "      <th></th>\n",
       "      <th>id</th>\n",
       "      <th>show_id</th>\n",
       "      <th>name</th>\n",
       "      <th>description</th>\n",
       "      <th>release_date</th>\n",
       "      <th>duration_ms</th>\n",
       "      <th>languages</th>\n",
       "    </tr>\n",
       "  </thead>\n",
       "  <tbody>\n",
       "    <tr>\n",
       "      <th>0</th>\n",
       "      <td>2j1pylyyMkEtahd4SNPcVH</td>\n",
       "      <td>6xwxHFRIHhkLbFv0BTIFXI</td>\n",
       "      <td>IDK</td>\n",
       "      <td>Contect me if u have something to say!👍🏻</td>\n",
       "      <td>2018-04-05</td>\n",
       "      <td>96758</td>\n",
       "      <td>[en-US]</td>\n",
       "    </tr>\n",
       "    <tr>\n",
       "      <th>1</th>\n",
       "      <td>3qU0PanIYQftlMqZgAH9MV</td>\n",
       "      <td>2CNXM2szUcsgFMPpDVhu4i</td>\n",
       "      <td>First Preserves</td>\n",
       "      <td>This episode is also available as a blog post:...</td>\n",
       "      <td>2021-02-27</td>\n",
       "      <td>183414</td>\n",
       "      <td>[en]</td>\n",
       "    </tr>\n",
       "    <tr>\n",
       "      <th>2</th>\n",
       "      <td>3VcZo2nOIlM7QIL33Pb3CZ</td>\n",
       "      <td>2CNXM2szUcsgFMPpDVhu4i</td>\n",
       "      <td>Fulfilling a dream</td>\n",
       "      <td>This episode is also available as a blog post:...</td>\n",
       "      <td>2021-02-27</td>\n",
       "      <td>60256</td>\n",
       "      <td>[en]</td>\n",
       "    </tr>\n",
       "    <tr>\n",
       "      <th>3</th>\n",
       "      <td>2ssRncNDQvUTwbo9pZH4Ew</td>\n",
       "      <td>0416Yv29u3KGUJGzyZUbS3</td>\n",
       "      <td>Memories of my traveling.</td>\n",
       "      <td>In this episode I will discuss the ups and dow...</td>\n",
       "      <td>2021-01-26</td>\n",
       "      <td>2150655</td>\n",
       "      <td>[ur]</td>\n",
       "    </tr>\n",
       "    <tr>\n",
       "      <th>4</th>\n",
       "      <td>7Gme1mrCZRdYJbOzidRc8x</td>\n",
       "      <td>2K8imKKaPNQMZciOF21urm</td>\n",
       "      <td>Apliques A&amp;A (Trailer)</td>\n",
       "      <td></td>\n",
       "      <td>2020-08-07</td>\n",
       "      <td>28514</td>\n",
       "      <td>[es]</td>\n",
       "    </tr>\n",
       "  </tbody>\n",
       "</table>\n",
       "</div>"
      ],
      "text/plain": [
       "                       id                 show_id                       name  \\\n",
       "0  2j1pylyyMkEtahd4SNPcVH  6xwxHFRIHhkLbFv0BTIFXI                        IDK   \n",
       "1  3qU0PanIYQftlMqZgAH9MV  2CNXM2szUcsgFMPpDVhu4i            First Preserves   \n",
       "2  3VcZo2nOIlM7QIL33Pb3CZ  2CNXM2szUcsgFMPpDVhu4i         Fulfilling a dream   \n",
       "3  2ssRncNDQvUTwbo9pZH4Ew  0416Yv29u3KGUJGzyZUbS3  Memories of my traveling.   \n",
       "4  7Gme1mrCZRdYJbOzidRc8x  2K8imKKaPNQMZciOF21urm     Apliques A&A (Trailer)   \n",
       "\n",
       "                                         description release_date  \\\n",
       "0          Contect me if u have something to say!👍🏻    2018-04-05   \n",
       "1  This episode is also available as a blog post:...   2021-02-27   \n",
       "2  This episode is also available as a blog post:...   2021-02-27   \n",
       "3  In this episode I will discuss the ups and dow...   2021-01-26   \n",
       "4                                                      2020-08-07   \n",
       "\n",
       "   duration_ms languages  \n",
       "0        96758   [en-US]  \n",
       "1       183414      [en]  \n",
       "2        60256      [en]  \n",
       "3      2150655      [ur]  \n",
       "4        28514      [es]  "
      ]
     },
     "execution_count": 5,
     "metadata": {},
     "output_type": "execute_result"
    }
   ],
   "source": [
    "episodes_df = pd.DataFrame(list(episodes.values()))\n",
    "episodes_df.head()"
   ]
  },
  {
   "cell_type": "markdown",
   "metadata": {},
   "source": [
    "#### Length of Show and Episode Description Analysis\n"
   ]
  },
  {
   "cell_type": "code",
   "execution_count": 6,
   "metadata": {},
   "outputs": [
    {
     "name": "stdout",
     "output_type": "stream",
     "text": [
      "average length of show description: 227.73194356706676 words\n",
      "average length of episode description: 648.9828669784507 words\n"
     ]
    }
   ],
   "source": [
    "print(\"average length of show description: {} words\".format(np.mean(shows_df['description'].apply(lambda x: len(x)))))\n",
    "print(\"average length of episode description: {} words\".format(np.mean(episodes_df['description'].apply(lambda x: len(x)))))"
   ]
  },
  {
   "cell_type": "code",
   "execution_count": 7,
   "metadata": {},
   "outputs": [
    {
     "data": {
      "image/png": "[encoded data removed]",
      "text/plain": [
       "<Figure size 432x288 with 1 Axes>"
      ]
     },
     "metadata": {
      "needs_background": "light"
     },
     "output_type": "display_data"
    }
   ],
   "source": [
    "plt.hist(shows_df['description'].apply(lambda x: len(x)), range=(0,1000), bins=10)\n",
    "plt.xlabel(\"show description length\")\n",
    "plt.ylabel(\"frequency\")\n",
    "plt.title('Show Description Length Distribution')\n",
    "plt.show()"
   ]
  },
  {
   "cell_type": "code",
   "execution_count": 8,
   "metadata": {
    "scrolled": true
   },
   "outputs": [
    {
     "data": {
      "image/png": "[encoded data removed]",
      "text/plain": [
       "<Figure size 432x288 with 1 Axes>"
      ]
     },
     "metadata": {
      "needs_background": "light"
     },
     "output_type": "display_data"
    }
   ],
   "source": [
    "plt.hist(episodes_df['description'].apply(lambda x: len(x)),range=(0,4000),bins=20)\n",
    "plt.xlabel(\"episodes description length\")\n",
    "plt.ylabel(\"frequency\")\n",
    "plt.title('Episodes Description Length Distribution')\n",
    "plt.show()"
   ]
  },
  {
   "cell_type": "markdown",
   "metadata": {},
   "source": [
    "#### Episode and Show Description Character Usage Analysis "
   ]
  },
  {
   "cell_type": "code",
   "execution_count": 28,
   "metadata": {
    "scrolled": true
   },
   "outputs": [],
   "source": [
    "import re\n",
    "\n",
    "show_description_tokens = []\n",
    "for description in shows_df['description']:\n",
    "    show_description_tokens+=(re.sub(r'[^a-zA-Z ]+', '', description).split())\n",
    "show_description_tf = collections.Counter(show_description_tokens)\n",
    "\n",
    "episode_description_tokens = []\n",
    "for description in episodes_df['description']:\n",
    "    episode_description_tokens+=(re.sub(r'[^a-zA-Z ]+', '', description).split())\n",
    "episode_description_tf = collections.Counter(episode_description_tokens)"
   ]
  },
  {
   "cell_type": "code",
   "execution_count": 43,
   "metadata": {
    "scrolled": true
   },
   "outputs": [
    {
     "name": "stdout",
     "output_type": "stream",
     "text": [
      "Top 10 most frequent words and their term frequencies in show description: \n",
      "\n",
      "'and', term frequency: 6052\n",
      "'the', term frequency: 4775\n",
      "'to', term frequency: 3693\n",
      "'of', term frequency: 3101\n",
      "'a', term frequency: 2896\n",
      "'in', term frequency: 1872\n",
      "'podcast', term frequency: 1552\n",
      "'is', term frequency: 1535\n",
      "'you', term frequency: 1443\n",
      "'de', term frequency: 1316\n",
      "\n",
      "\n",
      "Top 10 least frequent words and their term frequencies in show description: \n",
      "\n",
      "'contect', term frequency: 1\n",
      "'insta', term frequency: 1\n",
      "'anythinglike', term frequency: 1\n",
      "'confeccin', term frequency: 1\n",
      "'apliques', term frequency: 1\n",
      "'personalizados', term frequency: 1\n",
      "'Abseits', term frequency: 1\n",
      "'zweite', term frequency: 1\n",
      "'berhmten', term frequency: 1\n",
      "'AbseitsArbeitenPodcast', term frequency: 1\n"
     ]
    }
   ],
   "source": [
    "print(\"Top 10 most frequent words and their term frequencies in show description: \\n\")\n",
    "for word, score in sorted(show_description_tf.items(),key = lambda x: x[1],reverse=True)[:10]:\n",
    "    print(\"'{}', term frequency: {}\".format(word,score))\n",
    "\n",
    "print(\"\\n\")\n",
    "print(\"Top 10 least frequent words and their term frequencies in show description: \\n\")\n",
    "for word, score in sorted(show_description_tf.items(),key = lambda x: x[1])[:10]:\n",
    "    print(\"'{}', term frequency: {}\".format(word,score))\n",
    "\n",
    "\n",
    "\n"
   ]
  },
  {
   "cell_type": "code",
   "execution_count": 44,
   "metadata": {},
   "outputs": [
    {
     "name": "stdout",
     "output_type": "stream",
     "text": [
      "\n",
      "\n",
      "Top 10 most frequent words and their term frequencies in episode description: \n",
      "\n",
      "'the', term frequency: 277167\n",
      "'and', term frequency: 245645\n",
      "'to', term frequency: 199591\n",
      "'of', term frequency: 162864\n",
      "'a', term frequency: 159630\n",
      "'in', term frequency: 105161\n",
      "'on', term frequency: 79782\n",
      "'is', term frequency: 77322\n",
      "'you', term frequency: 77035\n",
      "'for', term frequency: 72228\n",
      "\n",
      "\n",
      "Top 10 least frequent words and their term frequencies in episode description: \n",
      "\n",
      "'Contect', term frequency: 1\n",
      "'httpannabelharzcomfirstpreserves', term frequency: 1\n",
      "'httpannabelharzcomfulfillingadream', term frequency: 1\n",
      "'EPR', term frequency: 1\n",
      "'papierlose', term frequency: 1\n",
      "'Abseits', term frequency: 1\n",
      "'httpsanchorfmabseitsarbeitenmessage', term frequency: 1\n",
      "'alcoolismo', term frequency: 1\n",
      "'agrotoxicos', term frequency: 1\n",
      "'desmedida', term frequency: 1\n"
     ]
    }
   ],
   "source": [
    "print(\"\\n\")\n",
    "print(\"Top 10 most frequent words and their term frequencies in episode description: \\n\")\n",
    "for word, score in sorted(episode_description_tf.items(),key = lambda x: x[1],reverse=True)[:10]:\n",
    "    print(\"'{}', term frequency: {}\".format(word,score)) \n",
    "\n",
    "print(\"\\n\")\n",
    "print(\"Top 10 least frequent words and their term frequencies in episode description: \\n\")\n",
    "for word, score in sorted(episode_description_tf.items(),key = lambda x: x[1])[:10]:\n",
    "    print(\"'{}', term frequency: {}\".format(word,score)) "
   ]
  },
  {
   "cell_type": "markdown",
   "metadata": {},
   "source": [
    "#### Episode Lenght Analysis"
   ]
  },
  {
   "cell_type": "code",
   "execution_count": 85,
   "metadata": {},
   "outputs": [
    {
     "name": "stdout",
     "output_type": "stream",
     "text": [
      "Mean duration of episodes: 2517096.58 milliseconds\n",
      "Mean duration of episodes: 2517.10 seconds\n",
      "Mean duration of episodes: 41.95 minutes\n"
     ]
    }
   ],
   "source": [
    "print(\"Mean duration of episodes: {:.2f} milliseconds\".format(episodes_df['duration_ms'].mean()))\n",
    "print(\"Mean duration of episodes: {:.2f} seconds\".format(episodes_df['duration_ms'].mean()/1000))\n",
    "print(\"Mean duration of episodes: {:.2f} minutes\".format(episodes_df['duration_ms'].mean()/60000))"
   ]
  },
  {
   "cell_type": "code",
   "execution_count": 94,
   "metadata": {},
   "outputs": [
    {
     "data": {
      "image/png": "[encoded data removed]",
      "text/plain": [
       "<Figure size 432x288 with 1 Axes>"
      ]
     },
     "metadata": {
      "needs_background": "light"
     },
     "output_type": "display_data"
    }
   ],
   "source": [
    "plt.hist(episodes_df['duration_ms']/60000,range=(0,200),bins=20)\n",
    "plt.xlabel(\"episode duration (Minutes)\")\n",
    "plt.ylabel(\"frequency\")\n",
    "plt.title(\"Episode Duration Distribution\")\n",
    "plt.show()"
   ]
  },
  {
   "cell_type": "markdown",
   "metadata": {},
   "source": [
    "#### Show Language Distribution "
   ]
  },
  {
   "cell_type": "code",
   "execution_count": 113,
   "metadata": {},
   "outputs": [
    {
     "name": "stdout",
     "output_type": "stream",
     "text": [
      "Top 20 most used languages in the shows\n"
     ]
    },
    {
     "data": {
      "text/plain": [
       "en       2594\n",
       "es        551\n",
       "pt        363\n",
       "en-US     283\n",
       "id        199\n",
       "de        138\n",
       "pt-BR      51\n",
       "it         46\n",
       "hi         45\n",
       "fr         44\n",
       "nl         34\n",
       "es-MX      27\n",
       "sv         27\n",
       "tr         21\n",
       "pl         16\n",
       "da         16\n",
       "en-GB      15\n",
       "sq         14\n",
       "de-DE      12\n",
       "no         12\n",
       "Name: languages, dtype: int64"
      ]
     },
     "metadata": {},
     "output_type": "display_data"
    }
   ],
   "source": [
    "print(\"Top 20 most used languages in the shows\")\n",
    "display(shows_df['languages'].apply(lambda x: x[0]).value_counts()[:20])"
   ]
  },
  {
   "cell_type": "markdown",
   "metadata": {},
   "source": [
    "#### Shows and Episodes Analysis "
   ]
  },
  {
   "cell_type": "code",
   "execution_count": 152,
   "metadata": {},
   "outputs": [
    {
     "name": "stdout",
     "output_type": "stream",
     "text": [
      "10 shows with the most episodes: \n",
      "\n",
      "1) The Option Alpha Podcast\n",
      "2) NBA TopShot Insider\n",
      "3) Made In Mississippi\n",
      "4) Made It In Music: Interviews With Artists, Songwriters, And Music Industry Pros\n",
      "5) Magic on The Inside\n",
      "6) Maher Al Mueaqly\n",
      "7) Make It Rain: Multifamily Real Estate Investing for Millennials\n",
      "8) Bossed Up\n",
      "9) Make it Stop: A Bad Music Podcast\n",
      "10) Borgen unplugged\n"
     ]
    }
   ],
   "source": [
    "print(\"10 shows with the most episodes: \\n\")\n",
    "show_episode_df = episodes_df.merge(shows_df, left_on=\"show_id\",right_on=\"id\")\n",
    "for i,show in enumerate(show_episode_df.groupby('name_y').count()['id_x'].sort_values(ascending=False)[0:10].index):\n",
    "    print(\"{}) {}\".format(i+1, show)) "
   ]
  }
 ],
 "metadata": {
  "kernelspec": {
   "display_name": "cs4300-env",
   "language": "python",
   "name": "cs4300-env"
  },
  "language_info": {
   "codemirror_mode": {
    "name": "ipython",
    "version": 3
   },
   "file_extension": ".py",
   "mimetype": "text/x-python",
   "name": "python",
   "nbconvert_exporter": "python",
   "pygments_lexer": "ipython3",
   "version": "3.7.6"
  }
 },
 "nbformat": 4,
 "nbformat_minor": 4
}
